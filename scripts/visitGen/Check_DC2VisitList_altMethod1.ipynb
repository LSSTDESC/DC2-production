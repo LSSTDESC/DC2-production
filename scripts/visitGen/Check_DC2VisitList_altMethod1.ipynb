{
 "cells": [
  {
   "cell_type": "markdown",
   "metadata": {},
   "source": [
    "Goal here is to check that the method in getDC2VisitList is ok.\n",
    "\n",
    "Know: two circle overlap iff (R0-R1)^2 <= (x0-x1)^2+(y0-y1)^2 <= (R0+R1)^2\n",
    "\n",
    "So the methodology adopted here is to model the DC2 footprint as a circle (in x, y; not ra, dec), and compare with circular FOVs.\n",
    "- Ideally no fID should be present in the list found here, but not in those saved by getDC2VisitList.\n",
    "- Those visits that turn out to not be in the visit list from getDC2VisitList code *must* be outside the footprint -- checked by producing the GIFs using DC2VisitsSim."
   ]
  },
  {
   "cell_type": "code",
   "execution_count": 1,
   "metadata": {},
   "outputs": [],
   "source": [
    "import matplotlib.pyplot as plt\n",
    "%matplotlib inline\n",
    "import numpy as np\n",
    "import os\n",
    "import healpy as hp\n",
    "from copy import deepcopy\n",
    "from os.path import expanduser\n",
    "home = expanduser(\"~\")\n",
    "import time\n",
    "import pandas as pd"
   ]
  },
  {
   "cell_type": "code",
   "execution_count": 2,
   "metadata": {},
   "outputs": [
    {
     "name": "stdout",
     "output_type": "stream",
     "text": [
      "/Users/humnaawan/repos/DC2_Repo/scripts/visitGen\n"
     ]
    }
   ],
   "source": [
    "repoDir= os.getcwd()\n",
    "print(repoDir)"
   ]
  },
  {
   "cell_type": "code",
   "execution_count": 3,
   "metadata": {},
   "outputs": [],
   "source": [
    "regionCorners= {}\n",
    "regionCorners['WFD']= [[57.87, -27.25], [58.02, -32.25], [52.11, -32.25], [52.25, -27.25]]\n",
    "regionCorners['DD']= [[53.764, -27.533], [53.771, -28.667], [52.479, -28.667], [52.486, -27.533]]"
   ]
  },
  {
   "cell_type": "code",
   "execution_count": 4,
   "metadata": {},
   "outputs": [],
   "source": [
    "center= {}\n",
    "center['WFD']= [55.064, -29.783]\n",
    "center['DD']= [53.125, -28.100]"
   ]
  },
  {
   "cell_type": "code",
   "execution_count": 5,
   "metadata": {},
   "outputs": [],
   "source": [
    "# set up the circular footprints\n",
    "radius= {}\n",
    "circCenter_ra= {}\n",
    "circCenter_dec= {}\n",
    "for key in regionCorners.keys():    \n",
    "    x1, y1= center[key][0]*np.cos(np.radians(center[key][1])), center[key][1]\n",
    "    x2, y2= regionCorners[key][0][0]*np.cos(np.radians(regionCorners[key][0][1])), regionCorners[key][0][1]\n",
    "\n",
    "    radius[key]= 0.7*np.sqrt((x2-x1)**2+(y2-y1))\n",
    "    circCenter_ra[key], circCenter_dec[key]= x1/np.cos(np.radians(center[key][1])), y1"
   ]
  },
  {
   "cell_type": "code",
   "execution_count": 6,
   "metadata": {},
   "outputs": [
    {
     "name": "stdout",
     "output_type": "stream",
     "text": [
      "{'WFD': 2.7916065446999974, 'DD': 0.77515948181482386}\n",
      "{'WFD': 55.064, 'DD': 53.125}\n",
      "{'WFD': -29.783, 'DD': -28.1}\n"
     ]
    }
   ],
   "source": [
    "print(radius)\n",
    "print(circCenter_ra)\n",
    "print(circCenter_dec)"
   ]
  },
  {
   "cell_type": "code",
   "execution_count": 7,
   "metadata": {},
   "outputs": [],
   "source": [
    "stepsize = np.pi/50.\n",
    "theta = np.arange(0, np.pi*2.+stepsize, stepsize)"
   ]
  },
  {
   "cell_type": "code",
   "execution_count": 8,
   "metadata": {},
   "outputs": [
    {
     "data": {
      "image/png": "[encoded data removed]",
      "text/plain": [
       "<matplotlib.figure.Figure at 0x10baccda0>"
      ]
     },
     "metadata": {},
     "output_type": "display_data"
    }
   ],
   "source": [
    "# plot the regions to check whats up\n",
    "for key in regionCorners.keys():    \n",
    "    xs, ys= [], []\n",
    "    for x, y in regionCorners[key]:\n",
    "        xs.append(x)\n",
    "        ys.append(y)\n",
    "    plt.plot(xs, ys, 'o-', label= key)\n",
    "\n",
    "    # plot the circle\n",
    "    delx= radius[key]*np.cos(theta)\n",
    "    dely= radius[key]*np.sin(theta)\n",
    "\n",
    "    plt.plot(delx+circCenter_ra[key], dely+circCenter_dec[key], '-', label= '%s bound'%key)\n",
    "\n",
    "plt.legend(loc=\"lower right\", ncol= 2)\n",
    "plt.title('Coords for the regions considered here.')\n",
    "plt.xlabel('ra (deg)')\n",
    "plt.ylabel('dec (deg)')\n",
    "plt.show()"
   ]
  },
  {
   "cell_type": "code",
   "execution_count": 9,
   "metadata": {},
   "outputs": [],
   "source": [
    "# simdata datapath\n",
    "mainDir= home+'/lsstData/'\n",
    "dbpath= mainDir+'minion_1016_desc_dithered_v3.db'   # new afterburner output\n",
    "pointingRACol= 'descDitheredRA'\n",
    "pointingDecCol= 'descDitheredDec'"
   ]
  },
  {
   "cell_type": "code",
   "execution_count": 10,
   "metadata": {},
   "outputs": [],
   "source": [
    "from DC2_visitListCode import getSimData\n",
    "from DC2_visitsSim import DC2VisitsSim"
   ]
  },
  {
   "cell_type": "code",
   "execution_count": 11,
   "metadata": {},
   "outputs": [],
   "source": [
    "# run the check on WFD, DD\n",
    "foundHere= {}\n",
    "for surveyRegionTag in regionCorners.keys():\n",
    "    simData= getSimData(dbpath, surveyRegionTag, pointingRACol, pointingDecCol)\n",
    "\n",
    "    FOVradius= np.degrees(0.0305)\n",
    "\n",
    "    obsIDs, fIDs, bands= [], [], []\n",
    "    for i, oid in enumerate(simData['obsHistID']):\n",
    "        FOVra, FOVdec= simData[pointingRACol][i], simData[pointingDecCol][i]\n",
    "\n",
    "        x0, y0= np.degrees(FOVra*np.cos(FOVdec)), np.degrees(FOVdec)\n",
    "        x1, y1= circCenter_ra[surveyRegionTag]*np.cos(np.radians(circCenter_dec[surveyRegionTag])), circCenter_dec[surveyRegionTag] \n",
    "        # (R0-R1)^2 <= (x0-x1)^2+(y0-y1)^2 <= (R0+R1)^2\n",
    "        middle= (x0-x1)**2+(y0-y1)**2\n",
    "        if (middle>= (radius[surveyRegionTag]-FOVradius)**2) & (middle<= (radius[surveyRegionTag]+FOVradius)**2):\n",
    "            obsIDs.append(oid)\n",
    "            fIDs.append(simData['fieldID'][i])\n",
    "            bands.append(simData['filter'][i])\n",
    "                \n",
    "    foundHere[surveyRegionTag]= pd.DataFrame({'obsHistID': np.array(obsIDs), 'fID': np.array(fIDs), 'band': np.array(bands)})"
   ]
  },
  {
   "cell_type": "code",
   "execution_count": 12,
   "metadata": {},
   "outputs": [],
   "source": [
    "# run the check on WFD visits in uDD footprint\n",
    "surveyRegionTag= 'WFD_inUDD'\n",
    "simData= getSimData(dbpath, 'WFD', pointingRACol, pointingDecCol)\n",
    "\n",
    "FOVradius= np.degrees(0.0305)\n",
    "\n",
    "obsIDs, fIDs, bands= [], [], []\n",
    "for i, oid in enumerate(simData['obsHistID']):\n",
    "    FOVra, FOVdec= simData[pointingRACol][i], simData[pointingDecCol][i]\n",
    "\n",
    "    x0, y0= np.degrees(FOVra*np.cos(FOVdec)), np.degrees(FOVdec)\n",
    "    x1, y1= circCenter_ra['DD']*np.cos(np.radians(circCenter_dec['DD'])), circCenter_dec['DD'] \n",
    "    # want (R0-R1)^2 <= (x0-x1)^2+(y0-y1)^2 <= (R0+R1)^2\n",
    "    middle= (x0-x1)**2+(y0-y1)**2\n",
    "    if (middle>= (radius['DD']-FOVradius)**2) & (middle<= (radius['DD']+FOVradius)**2):\n",
    "        obsIDs.append(oid)\n",
    "        fIDs.append(simData['fieldID'][i])\n",
    "        bands.append(simData['filter'][i])\n",
    "\n",
    "foundHere[surveyRegionTag]= pd.DataFrame({'obsHistID': np.array(obsIDs), 'fID': np.array(fIDs), 'band': np.array(bands)})"
   ]
  },
  {
   "cell_type": "markdown",
   "metadata": {},
   "source": [
    "#### Read in the save lists/pixels."
   ]
  },
  {
   "cell_type": "code",
   "execution_count": 13,
   "metadata": {},
   "outputs": [],
   "source": [
    "nside= 512"
   ]
  },
  {
   "cell_type": "code",
   "execution_count": 14,
   "metadata": {},
   "outputs": [],
   "source": [
    "# where the data was saved form the visitList run.\n",
    "outDir= '%s/../../protoDC2Visits_nside%s/'%(repoDir, nside)"
   ]
  },
  {
   "cell_type": "code",
   "execution_count": 15,
   "metadata": {},
   "outputs": [],
   "source": [
    "# read in the visit list\n",
    "saved= {}\n",
    "csvFile= '%s/visitLists//DC2VisitList_minion1016_v3_WFDvisits_nside%s_WFDvisitsInWFD.csv'%(outDir, nside)\n",
    "saved['WFD']= pd.read_csv(csvFile)\n",
    "\n",
    "csvFile= '%s/visitLists//DC2VisitList_minion1016_v3_DDvisits_nside%s_DDvisitsInuDD.csv'%(outDir, nside)\n",
    "saved['DD']= pd.read_csv(csvFile)\n",
    "\n",
    "csvFile= '%s/visitLists//DC2VisitList_minion1016_v3_WFDvisits_nside%s_WFDvisitsInuDD.csv'%(outDir, nside)\n",
    "saved['WFD_inUDD']= pd.read_csv(csvFile)\n",
    "\n",
    "# read in the pixels nmbers\n",
    "regionPixels= {}\n",
    "csvFile= '%s/regionPixels//DC2RegionPixels_minion1016_v3_WFDvisits_nside%s_WFDvisitsInWFD.csv'%(outDir, nside)\n",
    "\n",
    "regionPixels['WFD']= pd.read_csv(csvFile)['regionPixels']\n",
    "\n",
    "csvFile= '%s/regionPixels//DC2RegionPixels_minion1016_v3_DDvisits_nside%s_DDvisitsInuDD.csv'%(outDir, nside)\n",
    "\n",
    "regionPixels['DD']= pd.read_csv(csvFile)['regionPixels']"
   ]
  },
  {
   "cell_type": "markdown",
   "metadata": {},
   "source": [
    "#### Compare"
   ]
  },
  {
   "cell_type": "markdown",
   "metadata": {},
   "source": [
    "First compare the fIDs"
   ]
  },
  {
   "cell_type": "code",
   "execution_count": 16,
   "metadata": {},
   "outputs": [
    {
     "name": "stdout",
     "output_type": "stream",
     "text": [
      "\n",
      "WFD: Number of fID that are found here that are not in the saved list: 2\n",
      "Missing fIDs: [1339, 1165]\n",
      "\n",
      "Number of visits that found here for fID= 1339: 4\n",
      "[ 648558  693454 1634983 1641526]\n",
      "Number of visits that found here for fID= 1165: 39\n",
      "[  37652  193271  219182  230739  414869  471934  510373  510392  708487\n",
      "  720208  792810  899726  904820  924207  943328  994948 1154357 1165821\n",
      " 1249314 1251697 1404998 1413746 1415972 1443883 1460545 1492284 1506595\n",
      " 1643938 1660505 1661844 1695445 1716413 1734076 1903084 2016201 2137665\n",
      " 2156561 2163266 2227626]\n",
      "\n",
      "DD: Number of fID that are found here that are not in the saved list: 0\n",
      "Missing fIDs: []\n",
      "\n",
      "\n",
      "WFD_inUDD: Number of fID that are found here that are not in the saved list: 1\n",
      "Missing fIDs: [1297]\n",
      "\n",
      "Number of visits that found here for fID= 1297: 21\n",
      "[  12456  181900  204560  291860  415031  420805  648549 1138155 1157696\n",
      " 1161454 1272223 1407855 1433890 1471712 1527795 1690572 1694240 1975222\n",
      " 2152058 2169474 2393669]\n"
     ]
    }
   ],
   "source": [
    "for key in saved:\n",
    "    missing= list(set(foundHere[key]['fID'])-set(saved[key]['fID']))\n",
    "    nMissing= len(missing)\n",
    "    print('\\n%s: Number of fID that are found here that are not in the saved list: %s'%(key, nMissing))\n",
    "    print('Missing fIDs: %s\\n'%(missing))\n",
    "    if (nMissing>0):\n",
    "        for fid in missing:\n",
    "            ind= np.where(np.array(foundHere[key]['fID'])==fid)[0]\n",
    "            print('Number of visits that found here for fID= %s: %s\\n%s'%(fid, len(ind),\n",
    "                                                                             np.array(foundHere[key]['obsHistID'])[ind]))"
   ]
  },
  {
   "cell_type": "markdown",
   "metadata": {},
   "source": [
    "Ok some fIDs are found here that are not the saved lists. Check them:"
   ]
  },
  {
   "cell_type": "code",
   "execution_count": 17,
   "metadata": {},
   "outputs": [],
   "source": [
    "# compile these missing visits\n",
    "probObsIDs, probfIDs, probBands= {}, {}, {}\n",
    "for key in ['WFD', 'WFD_inUDD']:\n",
    "    missing= list(set(foundHere[key]['fID'])-set(saved[key]['fID']))\n",
    "    for fid in missing:\n",
    "        ind= np.where(np.array(foundHere[key]['fID'])==fid)[0]\n",
    "        missingObsID= np.unique(np.array(foundHere[key]['obsHistID'])[ind])\n",
    "\n",
    "        probOID, probfID, probBand= [], [], []\n",
    "        for i, oid in enumerate(missingObsID):\n",
    "            probOID.append(oid)\n",
    "            probfID.append(fid)\n",
    "            ind= np.where(np.array(foundHere[key]['obsHistID'])== oid)[0]\n",
    "\n",
    "            probBand.append(np.array(foundHere[key]['band'])[ind][0])\n",
    "\n",
    "        obsIDs, fIDs, bands= np.array(probOID), np.array(probfID), np.array(probBand)\n",
    "        obsIDs, ind= np.unique(obsIDs, return_index= True)\n",
    "        fIDs, bands= fIDs[ind], bands[ind]\n",
    "    \n",
    "    probObsIDs[key], probfIDs[key], probBands[key]= obsIDs, fIDs, bands"
   ]
  },
  {
   "cell_type": "code",
   "execution_count": 18,
   "metadata": {},
   "outputs": [],
   "source": [
    "ras, decs= [], []\n",
    "for key in regionCorners:\n",
    "    for i in regionCorners[key]:\n",
    "        ras.append(i[0])\n",
    "        decs.append(i[1])\n",
    "    \n",
    "minRA, maxRA= min(ras), max(ras)\n",
    "minDec, maxDec= min(decs), max(decs)"
   ]
  },
  {
   "cell_type": "code",
   "execution_count": 19,
   "metadata": {},
   "outputs": [
    {
     "name": "stdout",
     "output_type": "stream",
     "text": [
      "Saved  hIDs_All39_WFD_fid_test_nside512.gif\n"
     ]
    }
   ],
   "source": [
    "# simData is for WFD\n",
    "surveyRegionTag= 'WFD'\n",
    "DC2VisitsSim(outDir+'gifs_checks/', 'WFD_fid_test', simData, pointingRACol, pointingDecCol,\n",
    "                 probObsIDs[surveyRegionTag], probfIDs[surveyRegionTag], probBands[surveyRegionTag],\n",
    "                 regionPixels_WFD= regionPixels['WFD'], regionPixels_DD= regionPixels['DD'],\n",
    "                 nside= 512,\n",
    "                 obsHistIndMin= 0, obsHistIndMax= -1,\n",
    "             minRA= minRA, maxRA= maxRA, minDec= minDec, maxDec= maxDec)"
   ]
  },
  {
   "cell_type": "code",
   "execution_count": 20,
   "metadata": {},
   "outputs": [
    {
     "name": "stdout",
     "output_type": "stream",
     "text": [
      "Saved  hIDs_All21_WFD_inUDD_fid_test_nside512.gif\n"
     ]
    }
   ],
   "source": [
    "# simData is for WFD\n",
    "surveyRegionTag= 'WFD_inUDD'\n",
    "DC2VisitsSim(outDir+'gifs_checks/', 'WFD_inUDD_fid_test', simData, pointingRACol, pointingDecCol,\n",
    "                 probObsIDs[surveyRegionTag], probfIDs[surveyRegionTag], probBands[surveyRegionTag],\n",
    "                 regionPixels_WFD= regionPixels['WFD'], regionPixels_DD= regionPixels['DD'],\n",
    "                 nside= 512,\n",
    "                 obsHistIndMin= 0, obsHistIndMax= -1,\n",
    "             minRA= minRA, maxRA= maxRA, minDec= minDec, maxDec= maxDec)"
   ]
  },
  {
   "cell_type": "markdown",
   "metadata": {},
   "source": [
    "Ok so the missing fIDs are not a problem as the plots shows that the dithered FOVs lie outside the target regions."
   ]
  },
  {
   "cell_type": "markdown",
   "metadata": {},
   "source": [
    "Now check all the obsIDs"
   ]
  },
  {
   "cell_type": "code",
   "execution_count": 21,
   "metadata": {},
   "outputs": [
    {
     "name": "stdout",
     "output_type": "stream",
     "text": [
      "WFD: Number of visits that are found here that are not in the saved list: 640\n",
      "DD: Number of visits that are found here that are not in the saved list: 0\n",
      "WFD_inUDD: Number of visits that are found here that are not in the saved list: 352\n"
     ]
    }
   ],
   "source": [
    "for key in saved:\n",
    "    nMissing= len(list(set(foundHere[key]['obsHistID'])-set(saved[key]['obsHistID'])))\n",
    "    print('%s: Number of visits that are found here that are not in the saved list: %s'%(key, nMissing))"
   ]
  },
  {
   "cell_type": "markdown",
   "metadata": {},
   "source": [
    "Some obsIDs are not in the saved list. As before, need to make sure they dont fall in the target footprint."
   ]
  },
  {
   "cell_type": "code",
   "execution_count": 22,
   "metadata": {},
   "outputs": [],
   "source": [
    "# compile the missing visits\n",
    "probObsIDs, probfIDs, probBands= {}, {}, {}\n",
    "for key in ['WFD', 'WFD_inUDD']:\n",
    "    probOID, probfID, probBand= [], [], []\n",
    "    for i, oid in enumerate(foundHere[key]['obsHistID']):\n",
    "        if oid not in np.array(saved[key]['obsHistID']):\n",
    "            probOID.append(oid)\n",
    "            probfID.append(foundHere[key]['fID'][i])\n",
    "            probBand.append(foundHere[key]['band'][i])\n",
    "\n",
    "    obsIDs, fIDs, bands= np.array(probOID), np.array(probfID), np.array(probBand)\n",
    "    obsIDs, ind= np.unique(obsIDs, return_index= True)\n",
    "    fIDs, bands= fIDs[ind], bands[ind]\n",
    "    \n",
    "    probObsIDs[key], probfIDs[key], probBands[key]= obsIDs, fIDs, bands"
   ]
  },
  {
   "cell_type": "code",
   "execution_count": 23,
   "metadata": {},
   "outputs": [
    {
     "name": "stdout",
     "output_type": "stream",
     "text": [
      "Saved  hIDs_All640_WFD_oid_test_nside512.gif\n"
     ]
    }
   ],
   "source": [
    "# simData is for WFD\n",
    "surveyRegionTag= 'WFD'\n",
    "DC2VisitsSim(outDir+'gifs_checks/', 'WFD_oid_test', simData, pointingRACol, pointingDecCol,\n",
    "                 probObsIDs[surveyRegionTag], probfIDs[surveyRegionTag], probBands[surveyRegionTag],\n",
    "                 regionPixels_WFD= regionPixels['WFD'], regionPixels_DD= regionPixels['DD'],\n",
    "                 nside= 512,\n",
    "                 obsHistIndMin= 0, obsHistIndMax= -1,\n",
    "             minRA= minRA, maxRA= maxRA, minDec= minDec, maxDec= maxDec)"
   ]
  },
  {
   "cell_type": "code",
   "execution_count": 24,
   "metadata": {},
   "outputs": [
    {
     "name": "stdout",
     "output_type": "stream",
     "text": [
      "Saved  hIDs_All352_WFD_inUDD_oid_test_nside512.gif\n"
     ]
    }
   ],
   "source": [
    "# simData is for WFD\n",
    "surveyRegionTag= 'WFD_inUDD'\n",
    "DC2VisitsSim(outDir+'gifs_checks/', 'WFD_inUDD_oid_test', simData, pointingRACol, pointingDecCol,\n",
    "                 probObsIDs[surveyRegionTag], probfIDs[surveyRegionTag], probBands[surveyRegionTag],\n",
    "                 regionPixels_WFD= regionPixels['WFD'], regionPixels_DD= regionPixels['DD'],\n",
    "                 nside= 512,\n",
    "                 obsHistIndMin= 0, obsHistIndMax= -1,\n",
    "             minRA= minRA, maxRA= maxRA, minDec= minDec, maxDec= maxDec)"
   ]
  },
  {
   "cell_type": "markdown",
   "metadata": {},
   "source": [
    "Ok things look ok on visual inspection. Need to look into another method for quatitive confirmation; essentially need another method to compare overlap between circle and polygon, aside from using HEALPix."
   ]
  },
  {
   "cell_type": "code",
   "execution_count": null,
   "metadata": {},
   "outputs": [],
   "source": []
  }
 ],
 "metadata": {
  "kernelspec": {
   "display_name": "Python 3",
   "language": "python",
   "name": "python3"
  },
  "language_info": {
   "codemirror_mode": {
    "name": "ipython",
    "version": 3
   },
   "file_extension": ".py",
   "mimetype": "text/x-python",
   "name": "python",
   "nbconvert_exporter": "python",
   "pygments_lexer": "ipython3",
   "version": "3.6.2"
  }
 },
 "nbformat": 4,
 "nbformat_minor": 2
}
