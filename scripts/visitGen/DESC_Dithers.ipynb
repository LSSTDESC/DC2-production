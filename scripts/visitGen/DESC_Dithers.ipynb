{
 "cells": [
  {
   "cell_type": "markdown",
   "metadata": {},
   "source": [
    "Goal here is to create the descDitheredRA, descDitheredDec, descDitheredRotTelPos:\n",
    "- All visits will have rotational dithers as in DC1: random between -90, 90 degrees; after every filter change.\n",
    "- WFD visits will have translational visits as in DC1: random as large as 1.75 degree; after every visit.\n",
    "- DDF visits will also have translational dithers: chip-scale; after every visit.\n",
    "\n",
    "The idea is to append the three columns to the .db file where the first two will have the right translational dithers depending on whether the visits are DDF visits (chip-scale dithers) or WFD ones (large dithers).\n",
    "- The large translational dithers and rotational dithers are from the afterburner output: minion_1016_sqlite_new_dithers.db\n",
    "- For DDF dithers, running MAF Stacker for per visit translational dithers with the right 'amplitude' of the dithers.\n",
    "\n",
    "#### Couldnt get sql to work so sent the columns to Rahul. He added the columns to the .db file and created minion_1016_desc_dithered_v3.db.\n",
    "\n",
    "Some additional info:\n",
    "- Input file: `minion_1016_sqlite_new_dithers.db` (filename in `dbfile` parameter name)\n",
    "- Output file: `descDithers_attempt1.csv`\n",
    "- DDF dithers have max amplitude of 0.11667 degrees (see info after Input [6] for details); the value is stored in the `chipMaxDither` parameter and is passed onto the `maxDither` input to the stacker in Input [9]. WFD translational dithers and rotational dithers were implemented by the updated afterburner for DC1."
   ]
  },
  {
   "cell_type": "code",
   "execution_count": 1,
   "metadata": {},
   "outputs": [],
   "source": [
    "import numpy as np\n",
    "import os\n",
    "import matplotlib.pyplot as plt\n",
    "%matplotlib inline\n",
    "import time"
   ]
  },
  {
   "cell_type": "code",
   "execution_count": 2,
   "metadata": {},
   "outputs": [],
   "source": [
    "homeDir= '/Users/humnaawan'\n",
    "\n",
    "# database from the new afterburner: has random rotDithers in ditheredRotTelPos to compare the stacker output.\n",
    "dbfile = '%s/lsstData/minion_1016_sqlite_new_dithers.db'%homeDir"
   ]
  },
  {
   "cell_type": "markdown",
   "metadata": {},
   "source": [
    "#### Read in the data: afterburner output: has \n",
    "- 'randomDitherFieldPerVisitRA', 'randomDitherFieldPerVisitDec': for WFD, DDFs: large dithers\n",
    "- 'ditheredRotTelPos': rotational dithers\n",
    "\n"
   ]
  },
  {
   "cell_type": "code",
   "execution_count": 3,
   "metadata": {},
   "outputs": [],
   "source": [
    "import lsst.sims.maf.db as db\n",
    "opsdb = db.OpsimDatabase(dbfile)  #database"
   ]
  },
  {
   "cell_type": "code",
   "execution_count": 4,
   "metadata": {},
   "outputs": [],
   "source": [
    "colnames = ['propID', 'fieldID', 'fieldRA', 'fieldDec', \n",
    "            'randomDitherFieldPerVisitRA', 'randomDitherFieldPerVisitDec',\n",
    "           'ditheredRotTelPos', 'rotTelPos']\n",
    "\n",
    "simdata_afterburner= opsdb.fetchMetricData(colnames= colnames, sqlconstraint= None)"
   ]
  },
  {
   "cell_type": "code",
   "execution_count": 5,
   "metadata": {},
   "outputs": [
    {
     "data": {
      "text/plain": [
       "array([ (      1, 54,  316,  1.676483, -1.082473,  1.71553269, -1.086185,  0.      ,  0.      ),\n",
       "       (      2, 54,  372,  1.69412 , -1.033972,  1.66340685, -1.059274,  0.002508,  0.002508),\n",
       "       (      3, 54,  441,  1.708513, -0.985271,  1.68582904, -0.962342,  0.005246,  0.005246),\n",
       "       ...,\n",
       "       (2447929, 54, 1511,  3.578785, -0.447271,  3.57961904, -0.425568,  1.836622,  0.852225),\n",
       "       (2447930, 54, 1612,  3.608418, -0.401322,  3.62496254, -0.387863,  1.836998,  0.852601),\n",
       "       (2447931, 54, 1495,  3.633023, -0.451709,  3.6181503 , -0.461384,  1.837181,  0.852784)],\n",
       "      dtype=(numpy.record, [('obsHistID', '<i8'), ('propID', '<i8'), ('fieldID', '<i8'), ('fieldRA', '<f8'), ('fieldDec', '<f8'), ('randomDitherFieldPerVisitRA', '<f8'), ('randomDitherFieldPerVisitDec', '<f8'), ('ditheredRotTelPos', '<f8'), ('rotTelPos', '<f8')]))"
      ]
     },
     "execution_count": 5,
     "metadata": {},
     "output_type": "execute_result"
    }
   ],
   "source": [
    "simdata_afterburner"
   ]
  },
  {
   "cell_type": "markdown",
   "metadata": {},
   "source": [
    "#### Add chip-scale dither column"
   ]
  },
  {
   "cell_type": "code",
   "execution_count": 6,
   "metadata": {},
   "outputs": [],
   "source": [
    "import lsst.sims.maf.utils as mafUtils\n",
    "import lsst.sims.maf.slicers as slicers\n",
    "import lsst.sims.maf.metrics as metrics\n",
    "import lsst.sims.maf.metricBundles as metricBundles\n",
    "import lsst.sims.maf.stackers as stackers"
   ]
  },
  {
   "cell_type": "markdown",
   "metadata": {},
   "source": [
    "15 chips along the diameter of a FOV\n",
    "\n",
    "=> chipSize= 1.75*2/15\n",
    "\n",
    "=> chipMaxDither= chipSize/2"
   ]
  },
  {
   "cell_type": "code",
   "execution_count": 7,
   "metadata": {},
   "outputs": [
    {
     "name": "stdout",
     "output_type": "stream",
     "text": [
      "0.11666666666666667\n"
     ]
    }
   ],
   "source": [
    "chipSize= 1.75*2/15\n",
    "\n",
    "chipMaxDither= chipSize/2\n",
    "print(chipMaxDither)"
   ]
  },
  {
   "cell_type": "code",
   "execution_count": 8,
   "metadata": {},
   "outputs": [],
   "source": [
    "# set up to run the stacker.\n",
    "metric = metrics.PassMetric()  # want to access the database; no analysis needed\n",
    "slicer = slicers.OneDSlicer(sliceColName='night', binsize=1)   # essentially accessing all nights\n",
    "sqlconstraint= None"
   ]
  },
  {
   "cell_type": "code",
   "execution_count": 9,
   "metadata": {},
   "outputs": [],
   "source": [
    "stackerList = [stackers.RandomDitherFieldPerVisitStacker(maxDither= chipMaxDither )]"
   ]
  },
  {
   "cell_type": "code",
   "execution_count": 10,
   "metadata": {},
   "outputs": [
    {
     "name": "stdout",
     "output_type": "stream",
     "text": [
      "Querying database with no constraint.\n",
      "Found 2447931 visits\n",
      "Running:  ['check']\n",
      "Completed metric generation.\n",
      "Running reduce methods.\n",
      "Running summary statistics.\n",
      "Completed.\n"
     ]
    }
   ],
   "source": [
    "outDir = '%s/stackers_uDDF'%homeDir\n",
    "resultsDb = db.ResultsDb(outDir=outDir)\n",
    "\n",
    "# set up metric bundle\n",
    "bundle = metricBundles.MetricBundle(metric, slicer, sqlconstraint= sqlconstraint, stackerList=stackerList)\n",
    "bgroup = metricBundles.MetricBundleGroup({'check': bundle}, opsdb, outDir=outDir,\n",
    "                                         resultsDb=resultsDb, saveEarly= False)\n",
    "# run the bundle\n",
    "bgroup.runAll()"
   ]
  },
  {
   "cell_type": "code",
   "execution_count": 11,
   "metadata": {},
   "outputs": [
    {
     "data": {
      "text/plain": [
       "array([(      1,    0, -1.082473,  1.676483,  1.67505076, -1.08202454),\n",
       "       (      2,    0, -1.033972,  1.69412 ,  1.69367123, -1.03320646),\n",
       "       (      3,    0, -0.985271,  1.708513,  1.70849298, -0.98567924),\n",
       "       ...,\n",
       "       (2447929, 3649, -0.447271,  3.578785,  3.57753393, -0.44656881),\n",
       "       (2447930, 3649, -0.401322,  3.608418,  3.60995224, -0.40218307),\n",
       "       (2447931, 3649, -0.451709,  3.633023,  3.63162487, -0.45163034)],\n",
       "      dtype=[('obsHistID', '<i8'), ('night', '<i8'), ('fieldDec', '<f8'), ('fieldRA', '<f8'), ('randomDitherFieldPerVisitRa', '<f8'), ('randomDitherFieldPerVisitDec', '<f8')])"
      ]
     },
     "execution_count": 11,
     "metadata": {},
     "output_type": "execute_result"
    }
   ],
   "source": [
    "bgroup.simData"
   ]
  },
  {
   "cell_type": "markdown",
   "metadata": {},
   "source": [
    "#### Quick checks on the dithers."
   ]
  },
  {
   "cell_type": "code",
   "execution_count": 12,
   "metadata": {},
   "outputs": [
    {
     "data": {
      "text/plain": [
       "<matplotlib.legend.Legend at 0x171c5afd0>"
      ]
     },
     "execution_count": 12,
     "metadata": {},
     "output_type": "execute_result"
    },
    {
     "data": {
      "image/png": "[encoded data removed]",
      "text/plain": [
       "<matplotlib.figure.Figure at 0x171c5ad30>"
      ]
     },
     "metadata": {},
     "output_type": "display_data"
    }
   ],
   "source": [
    "delRA_afterB= simdata_afterburner['randomDitherFieldPerVisitRA']-simdata_afterburner['fieldRA']     \n",
    "plt.hist(delRA_afterB, label= 'large: delRA')\n",
    "delRA_small= bgroup.simData['randomDitherFieldPerVisitRa']-bgroup.simData['fieldRA']\n",
    "plt.hist(delRA_small, label= 'small: delRA')\n",
    "plt.xlabel('delRA')\n",
    "plt.ylabel('Counts')\n",
    "plt.legend()"
   ]
  },
  {
   "cell_type": "code",
   "execution_count": 13,
   "metadata": {},
   "outputs": [
    {
     "data": {
      "text/plain": [
       "<matplotlib.legend.Legend at 0x117dca278>"
      ]
     },
     "execution_count": 13,
     "metadata": {},
     "output_type": "execute_result"
    },
    {
     "data": {
      "image/png": "[encoded data removed]",
      "text/plain": [
       "<matplotlib.figure.Figure at 0x117dca630>"
      ]
     },
     "metadata": {},
     "output_type": "display_data"
    }
   ],
   "source": [
    "delDec_afterB= simdata_afterburner['randomDitherFieldPerVisitDec']-simdata_afterburner['fieldDec'] \n",
    "plt.hist(delDec_afterB, label= 'large: delDec')\n",
    "\n",
    "delDec_small= bgroup.simData['randomDitherFieldPerVisitDec']-bgroup.simData['fieldDec']\n",
    "plt.hist(delDec_small, label= 'small: delDec')\n",
    "plt.xlabel('delDec (=dely)')\n",
    "plt.ylabel('Counts')\n",
    "plt.legend()"
   ]
  },
  {
   "cell_type": "code",
   "execution_count": 14,
   "metadata": {},
   "outputs": [
    {
     "data": {
      "text/plain": [
       "<matplotlib.legend.Legend at 0x1388c3828>"
      ]
     },
     "execution_count": 14,
     "metadata": {},
     "output_type": "execute_result"
    },
    {
     "data": {
      "image/png": "[encoded data removed]",
      "text/plain": [
       "<matplotlib.figure.Figure at 0x142474f28>"
      ]
     },
     "metadata": {},
     "output_type": "display_data"
    }
   ],
   "source": [
    "plt.hist(delRA_afterB*np.cos(simdata_afterburner['fieldDec']), label= 'large: delx')\n",
    "plt.hist(delRA_small*np.cos(bgroup.simData['fieldDec']), label= 'small: delx')\n",
    "plt.xlabel('delx')\n",
    "plt.ylabel('Counts')\n",
    "plt.legend()"
   ]
  },
  {
   "cell_type": "markdown",
   "metadata": {},
   "source": [
    "##### Things look ok. The dithers far away frrom the origin are due to RA wrapping in the Stacker; they seem to be close ot 2pi."
   ]
  },
  {
   "cell_type": "markdown",
   "metadata": {},
   "source": [
    "#### Combine the dithers with the .db file. First create arrays with for descDitheredRA, descDitheredDec, descDitheredRotTelPos"
   ]
  },
  {
   "cell_type": "code",
   "execution_count": 15,
   "metadata": {},
   "outputs": [
    {
     "name": "stdout",
     "output_type": "stream",
     "text": [
      "{52: 'GalacticPlane', 53: 'SouthCelestialPole-18', 54: 'Universal-18-0824B', 55: 'NorthEclipticSpur-18c', 56: 'DDcosmology1'}\n",
      "{'WFD': [54], 'DD': [56]}\n"
     ]
    }
   ],
   "source": [
    "#### Figure out the propID to distinguish WFD, DDFs\n",
    "import lsst.sims.maf.utils as mafUtils\n",
    "propIds, propTags = opsdb.fetchPropInfo()\n",
    "print(propIds)\n",
    "print(propTags)"
   ]
  },
  {
   "cell_type": "code",
   "execution_count": 16,
   "metadata": {},
   "outputs": [
    {
     "name": "stdout",
     "output_type": "stream",
     "text": [
      "Total visits:  2447931\n"
     ]
    }
   ],
   "source": [
    "tot= len(simdata_afterburner)\n",
    "print('Total visits: ', tot)"
   ]
  },
  {
   "cell_type": "code",
   "execution_count": 17,
   "metadata": {},
   "outputs": [],
   "source": [
    "descDitheredRotTelPos= simdata_afterburner['ditheredRotTelPos'].copy()\n",
    "\n",
    "# initiate as undithered poinitngs as nonWFD, nonDDF should remain unchanged\n",
    "descDitheredRA= simdata_afterburner['fieldRA'].copy()\n",
    "descDitheredDec= simdata_afterburner['fieldDec'].copy()"
   ]
  },
  {
   "cell_type": "code",
   "execution_count": 18,
   "metadata": {},
   "outputs": [
    {
     "name": "stdout",
     "output_type": "stream",
     "text": [
      "2083758 WFD visits out of total 2447931\n"
     ]
    }
   ],
   "source": [
    "# add WFD dithers\n",
    "ind_WFD= np.where(simdata_afterburner['propID']== propTags['WFD'])[0]\n",
    "print('%s WFD visits out of total %s'%(len(ind_WFD), tot))\n",
    "\n",
    "descDitheredRA[ind_WFD]= simdata_afterburner['randomDitherFieldPerVisitRA'][ind_WFD]\n",
    "descDitheredDec[ind_WFD]= simdata_afterburner['randomDitherFieldPerVisitDec'][ind_WFD]"
   ]
  },
  {
   "cell_type": "code",
   "execution_count": 19,
   "metadata": {},
   "outputs": [
    {
     "name": "stdout",
     "output_type": "stream",
     "text": [
      "111121 DD visits out of total 2447931\n"
     ]
    }
   ],
   "source": [
    "# add DDF dithers\n",
    "ind_DD= np.where(simdata_afterburner['propID']== propTags['DD'])[0]\n",
    "print('%s DD visits out of total %s'%(len(ind_DD), tot))\n",
    "\n",
    "descDitheredRA[ind_DD]= bgroup.simData['randomDitherFieldPerVisitRa'][ind_DD]\n",
    "descDitheredDec[ind_DD]= bgroup.simData['randomDitherFieldPerVisitDec'][ind_DD]"
   ]
  },
  {
   "cell_type": "code",
   "execution_count": 20,
   "metadata": {},
   "outputs": [
    {
     "name": "stdout",
     "output_type": "stream",
     "text": [
      "WFD obsIDs match:  [ True]\n",
      "DD obsIDs match:  [ True]\n"
     ]
    }
   ],
   "source": [
    "# check\n",
    "print('WFD obsIDs match: ', np.unique(simdata_afterburner['obsHistID'][ind_WFD]==bgroup.simData['obsHistID'][ind_WFD]))\n",
    "print('DD obsIDs match: ', np.unique(simdata_afterburner['obsHistID'][ind_DD]==bgroup.simData['obsHistID'][ind_DD]))"
   ]
  },
  {
   "cell_type": "markdown",
   "metadata": {},
   "source": [
    "Things look ok."
   ]
  },
  {
   "cell_type": "markdown",
   "metadata": {},
   "source": [
    "#### Run sql to add the columns."
   ]
  },
  {
   "cell_type": "raw",
   "metadata": {},
   "source": [
    "import sqlite3\n",
    "import pandas as pd"
   ]
  },
  {
   "cell_type": "raw",
   "metadata": {},
   "source": [
    "sqlite_file= '%s/lsstData/minion_1016_sqlite_new_dithers_descDithered.db'%homeDir  # a mere copy of minion_1016_sqlite_new_dithers.db\n",
    "\n",
    "table_name = 'Summary'\n",
    "id_column = 'obsHistID' # name of the PRIMARY KEY column\n",
    "\n",
    "new_column1 = 'descDitheredRA'  # name of the new column\n",
    "new_column2 = 'descDitheredDec'  # name of the new column\n",
    "\n",
    "column_type = 'REAL' # E.g., INTEGER, TEXT, NULL, REAL, BLOB"
   ]
  },
  {
   "cell_type": "raw",
   "metadata": {},
   "source": [
    "conn = sqlite3.connect(sqlite_file)\n",
    "c = conn.cursor()"
   ]
  },
  {
   "cell_type": "raw",
   "metadata": {},
   "source": [
    "# add columns\n",
    "for newCol in ['descDitheredRA', 'descDitheredDec', 'descDitheredRotTelPos']:\n",
    "    c.execute(\"ALTER TABLE {tn} ADD COLUMN '{cn}' {ct}\"\\\n",
    "        .format(tn=table_name, cn= newCol, ct=column_type))"
   ]
  },
  {
   "cell_type": "raw",
   "metadata": {},
   "source": [
    "# add entries.\n",
    "startTime= time.time()\n",
    "for i, obsID in enumerate(simdata_afterburner['obsHistID']):\n",
    "    if obsID in bgroup.simData['obsHistID'][ind_DD]:\n",
    "        j= np.where(bgroup.simData['obsHistID']==obsID)[0]\n",
    "        newRA= bgroup.simData['randomDitherFieldPerVisitRa'][j][0]\n",
    "        newDec= bgroup.simData['randomDitherFieldPerVisitDec'][j][0]\n",
    "        \n",
    "    if obsID in simdata_afterburner['obsHistID'][ind_WFD]:\n",
    "        j= np.where(bgroup.simData['obsHistID']==obsID)[0]\n",
    "        newRA= simdata_afterburner['randomDitherFieldPerVisitRA'][j][0]\n",
    "        newDec= simdata_afterburner['randomDitherFieldPerVisitDec'][j][0]\n",
    "    \n",
    "    #print(newRA,obsID)\n",
    "    c.execute('UPDATE Summary SET descDitheredRA= %s WHERE obsHistID= %s'%(newRA, obsID))\n",
    "    c.execute('UPDATE Summary SET descDitheredDec= %s WHERE obsHistID= %s'%(newDec, obsID))\n",
    "    c.execute('UPDATE Summary SET descDitheredRotTelPos= %s WHERE obsHistID= %s'%(simdata_afterburner['ditheredRotTelPos'][i], obsID))\n",
    "    \n",
    "print('Time taken: ', startTime-time.time())"
   ]
  },
  {
   "cell_type": "raw",
   "metadata": {},
   "source": [
    "conn.commit()\n",
    "conn.close()"
   ]
  },
  {
   "cell_type": "markdown",
   "metadata": {},
   "source": [
    "Couldnt get c.executemany to add the values and c.execute seems to take forever.\n",
    "\n",
    "Rahul Biswas has the code to add the columns so decided to send the new columns to him."
   ]
  },
  {
   "cell_type": "code",
   "execution_count": 21,
   "metadata": {},
   "outputs": [],
   "source": [
    "import pandas as pd\n",
    "# save the columns as a csv file for Rahul.\n",
    "d= {'obsHistID': simdata_afterburner['obsHistID'], \n",
    "    'descDitheredRA': descDitheredRA, 'descDitheredDec': descDitheredDec, \n",
    "    'descDitheredRotTelPos': simdata_afterburner['ditheredRotTelPos']}\n",
    "DF= pd.DataFrame(d)\n",
    "\n",
    "os.chdir(outDir)\n",
    "out= DF.to_csv('descDithers_attempt1.csv')"
   ]
  },
  {
   "cell_type": "code",
   "execution_count": null,
   "metadata": {},
   "outputs": [],
   "source": []
  },
  {
   "cell_type": "code",
   "execution_count": null,
   "metadata": {},
   "outputs": [],
   "source": []
  }
 ],
 "metadata": {
  "kernelspec": {
   "display_name": "Python 3",
   "language": "python",
   "name": "python3"
  },
  "language_info": {
   "codemirror_mode": {
    "name": "ipython",
    "version": 3
   },
   "file_extension": ".py",
   "mimetype": "text/x-python",
   "name": "python",
   "nbconvert_exporter": "python",
   "pygments_lexer": "ipython3",
   "version": "3.6.2"
  }
 },
 "nbformat": 4,
 "nbformat_minor": 2
}
