{
 "cells": [
  {
   "cell_type": "markdown",
   "metadata": {},
   "source": [
    "Goal here is to produce the visits lists (obsID, fID, band) for visits that fall in WFD, uDDF footprint. \n",
    "\n",
    "3 specific scenarios:\n",
    "- WFD visits in WFD footprint\n",
    "- DD visits in uDDF footprint\n",
    "- WFD visits in uDDF footprint\n",
    "\n",
    "A csv file with relevant info is saved for each visit.\n",
    "\n",
    "Also, gifs are produced to check the first 100 visits in each case.\n",
    "\n",
    "Requires https://github.com/humnaawan/DC1-Regions to be set up."
   ]
  },
  {
   "cell_type": "code",
   "execution_count": 1,
   "metadata": {},
   "outputs": [],
   "source": [
    "import matplotlib.pyplot as plt\n",
    "%matplotlib inline\n",
    "import numpy as np\n",
    "import os\n",
    "import healpy as hp\n",
    "from copy import deepcopy\n",
    "from os.path import expanduser\n",
    "home = expanduser(\"~\")\n",
    "import time"
   ]
  },
  {
   "cell_type": "code",
   "execution_count": 2,
   "metadata": {},
   "outputs": [
    {
     "name": "stdout",
     "output_type": "stream",
     "text": [
      "/Users/humnaawan/repos/DC2_Repo/scripts/visitGen\n"
     ]
    }
   ],
   "source": [
    "repoDir= os.getcwd()\n",
    "print(repoDir)"
   ]
  },
  {
   "cell_type": "markdown",
   "metadata": {},
   "source": [
    "#### Set up the regions"
   ]
  },
  {
   "cell_type": "code",
   "execution_count": 3,
   "metadata": {},
   "outputs": [],
   "source": [
    "regionCorners= {}\n",
    "regionCorners['WFD']= [[57.87, -27.25], [58.02, -32.25], [52.11, -32.25], [52.25, -27.25]]\n",
    "regionCorners['DD']= [[53.764, -27.533], [53.771, -28.667], [52.479, -28.667], [52.486, -27.533]]"
   ]
  },
  {
   "cell_type": "code",
   "execution_count": 4,
   "metadata": {},
   "outputs": [
    {
     "data": {
      "image/png": "[encoded data removed]",
      "text/plain": [
       "<matplotlib.figure.Figure at 0x118a3e438>"
      ]
     },
     "metadata": {},
     "output_type": "display_data"
    }
   ],
   "source": [
    "# plot the regions to check whats up\n",
    "for key in regionCorners.keys():    \n",
    "    xs, ys= [], []\n",
    "    for x, y in regionCorners[key]:\n",
    "        xs.append(x)\n",
    "        ys.append(y)\n",
    "    plt.plot(xs, ys, 'o-', label= key)\n",
    "plt.legend(loc=\"lower right\", ncol= 2)\n",
    "plt.title('Coords for the regions considered here.')\n",
    "plt.xlabel('ra (deg)')\n",
    "plt.ylabel('dec (deg)')\n",
    "plt.show()"
   ]
  },
  {
   "cell_type": "markdown",
   "metadata": {},
   "source": [
    "#### Find the visits."
   ]
  },
  {
   "cell_type": "code",
   "execution_count": 5,
   "metadata": {},
   "outputs": [],
   "source": [
    "# simdata datapath\n",
    "mainDir= home+'/lsstData/'\n",
    "dbpath= mainDir+'minion_1016_desc_dithered_v3.db'   # new afterburner output"
   ]
  },
  {
   "cell_type": "code",
   "execution_count": 6,
   "metadata": {},
   "outputs": [],
   "source": [
    "# set up\n",
    "pointingRACol= 'descDitheredRA'\n",
    "pointingDecCol= 'descDitheredDec'\n",
    "simDataTag= 'minion1016_v3'\n",
    "nside= 512"
   ]
  },
  {
   "cell_type": "code",
   "execution_count": 7,
   "metadata": {},
   "outputs": [],
   "source": [
    "# where the data will be saved\n",
    "outDir= '%s/../../protoDC2Visits_nside%s/'%(repoDir, nside)"
   ]
  },
  {
   "cell_type": "code",
   "execution_count": 8,
   "metadata": {},
   "outputs": [],
   "source": [
    "from DC2_visitListCode import getDC2VisitList"
   ]
  },
  {
   "cell_type": "code",
   "execution_count": 9,
   "metadata": {},
   "outputs": [],
   "source": [
    "simdata, regionPixels, obsIDsList, fIDsList, bandList= {}, {}, {}, {}, {}"
   ]
  },
  {
   "cell_type": "code",
   "execution_count": 10,
   "metadata": {
    "scrolled": true
   },
   "outputs": [
    {
     "name": "stdout",
     "output_type": "stream",
     "text": [
      "Healpix slicer using NSIDE=512, approximate resolution 6.870973 arcminutes\n",
      "Querying database with no constraint.\n",
      "Found 2194905 visits\n",
      "Running:  ['pixelGrid']\n",
      "Completed metric generation.\n",
      "Running reduce methods.\n",
      "Running summary statistics.\n",
      "Completed.\n",
      "\n",
      "Finding the visit list.\n",
      "Healpix slicer using NSIDE=512, approximate resolution 6.870973 arcminutes\n",
      "\n",
      "##Total number of unique visits in the region (across all bands): 8389\n",
      "\n",
      "Total number of unique visits in the region for u band: 572\n",
      "fIDs: [1178 1188 1214 1226 1277 1297 1309 1331 1401 1419 1427 1445 1522 1546 1566]\n",
      "\n",
      "Total number of unique visits in the region for g band: 822\n",
      "fIDs: [1178 1188 1214 1226 1277 1297 1309 1331 1401 1419 1427 1445 1522 1546 1566]\n",
      "\n",
      "Total number of unique visits in the region for r band: 1825\n",
      "fIDs: [1178 1188 1214 1226 1277 1297 1309 1331 1401 1419 1427 1445 1522 1546 1566]\n",
      "\n",
      "Total number of unique visits in the region for i band: 1855\n",
      "fIDs: [1178 1188 1214 1226 1277 1297 1309 1331 1401 1419 1427 1445 1522 1546 1566]\n",
      "\n",
      "Total number of unique visits in the region for z band: 1669\n",
      "fIDs: [1178 1188 1214 1226 1277 1297 1309 1331 1401 1419 1427 1445 1522 1546 1566]\n",
      "\n",
      "Total number of unique visits in the region for y band: 1646\n",
      "fIDs: [1178 1188 1214 1226 1277 1297 1309 1331 1401 1419 1427 1445 1522 1546 1566]\n",
      "\n",
      "Saved data in DC2VisitList_minion1016_v3_WFDvisits_nside512_WFDvisitsInWFD.csv.\n",
      "Outdir: /Users/humnaawan/repos/DC2_Repo/scripts/visitGen/../../protoDC2Visits_nside512/visitLists/.\n",
      "\n",
      "Saved data in DC2RegionPixels_minion1016_v3_WFDvisits_nside512_WFDvisitsInWFD.csv.\n",
      "Outdir: /Users/humnaawan/repos/DC2_Repo/scripts/visitGen/../../protoDC2Visits_nside512/regionPixels/.\n",
      "\n",
      "Time taken (s): 751.188\n"
     ]
    }
   ],
   "source": [
    "# get WFD visits that fall in the WFD footprint\n",
    "startTime= time.time()\n",
    "surveyRegionTag= 'WFD'\n",
    "\n",
    "out= getDC2VisitList(dbpath, simDataTag, surveyRegionTag, pointingRACol, pointingDecCol,\n",
    "                     outDir, nside, regionCorners[surveyRegionTag],\n",
    "                    filters= ['u', 'g', 'r', 'i', 'z', 'y'], outFileTag= 'WFDvisitsInWFD')\n",
    "\n",
    "simdata[surveyRegionTag], regionPixels[surveyRegionTag], obsIDsList[surveyRegionTag], fIDsList[surveyRegionTag], bandList[surveyRegionTag]= out\n",
    "\n",
    "print('\\nTime taken (s): %.3f'%(time.time()-startTime))"
   ]
  },
  {
   "cell_type": "code",
   "execution_count": 11,
   "metadata": {},
   "outputs": [
    {
     "name": "stdout",
     "output_type": "stream",
     "text": [
      "Healpix slicer using NSIDE=512, approximate resolution 6.870973 arcminutes\n",
      "Querying database with no constraint.\n",
      "Found 2194905 visits\n",
      "Running:  ['pixelGrid']\n",
      "Completed metric generation.\n",
      "Running reduce methods.\n",
      "Running summary statistics.\n",
      "Completed.\n",
      "\n",
      "Finding the visit list.\n",
      "Healpix slicer using NSIDE=512, approximate resolution 6.870973 arcminutes\n",
      "\n",
      "##Total number of unique visits in the region (across all bands): 23160\n",
      "\n",
      "Total number of unique visits in the region for u band: 4963\n",
      "fIDs: [1427]\n",
      "\n",
      "Total number of unique visits in the region for g band: 1911\n",
      "fIDs: [1427]\n",
      "\n",
      "Total number of unique visits in the region for r band: 3796\n",
      "fIDs: [1427]\n",
      "\n",
      "Total number of unique visits in the region for i band: 3818\n",
      "fIDs: [1427]\n",
      "\n",
      "Total number of unique visits in the region for z band: 4930\n",
      "fIDs: [1427]\n",
      "\n",
      "Total number of unique visits in the region for y band: 3742\n",
      "fIDs: [1427]\n",
      "\n",
      "Saved data in DC2VisitList_minion1016_v3_DDvisits_nside512_DDvisitsInuDD.csv.\n",
      "Outdir: /Users/humnaawan/repos/DC2_Repo/scripts/visitGen/../../protoDC2Visits_nside512/visitLists/.\n",
      "\n",
      "Saved data in DC2RegionPixels_minion1016_v3_DDvisits_nside512_DDvisitsInuDD.csv.\n",
      "Outdir: /Users/humnaawan/repos/DC2_Repo/scripts/visitGen/../../protoDC2Visits_nside512/regionPixels/.\n",
      "\n",
      "Time taken (s): 710.526\n"
     ]
    }
   ],
   "source": [
    "# get DD visits that fall in the uDDF footprint\n",
    "startTime= time.time()\n",
    "surveyRegionTag= 'DD'\n",
    "\n",
    "out= getDC2VisitList(dbpath, simDataTag, surveyRegionTag, pointingRACol, pointingDecCol,\n",
    "                     outDir, nside, regionCorners[surveyRegionTag],\n",
    "                    filters= ['u', 'g', 'r', 'i', 'z', 'y'], outFileTag= 'DDvisitsInuDD')\n",
    "\n",
    "simdata[surveyRegionTag], regionPixels[surveyRegionTag], obsIDsList[surveyRegionTag], fIDsList[surveyRegionTag], bandList[surveyRegionTag]= out\n",
    "print('\\nTime taken (s): %.3f'%(time.time()-startTime))"
   ]
  },
  {
   "cell_type": "code",
   "execution_count": 13,
   "metadata": {},
   "outputs": [
    {
     "name": "stdout",
     "output_type": "stream",
     "text": [
      "Healpix slicer using NSIDE=512, approximate resolution 6.870973 arcminutes\n",
      "Querying database with no constraint.\n",
      "Found 2194905 visits\n",
      "Running:  ['pixelGrid']\n",
      "Completed metric generation.\n",
      "Running reduce methods.\n",
      "Running summary statistics.\n",
      "Completed.\n",
      "\n",
      "Finding the visit list.\n",
      "Healpix slicer using NSIDE=512, approximate resolution 6.870973 arcminutes\n",
      "\n",
      "##Total number of unique visits in the region (across all bands): 2307\n",
      "\n",
      "Total number of unique visits in the region for u band: 158\n",
      "fIDs: [1309 1331 1419 1427 1445 1546 1566]\n",
      "\n",
      "Total number of unique visits in the region for g band: 218\n",
      "fIDs: [1309 1331 1419 1427 1445 1546 1566]\n",
      "\n",
      "Total number of unique visits in the region for r band: 505\n",
      "fIDs: [1309 1331 1419 1427 1445 1546 1566]\n",
      "\n",
      "Total number of unique visits in the region for i band: 514\n",
      "fIDs: [1309 1331 1419 1427 1445 1546 1566]\n",
      "\n",
      "Total number of unique visits in the region for z band: 457\n",
      "fIDs: [1309 1331 1419 1427 1445 1546 1566]\n",
      "\n",
      "Total number of unique visits in the region for y band: 455\n",
      "fIDs: [1309 1331 1419 1427 1445 1546 1566]\n",
      "\n",
      "Saved data in DC2VisitList_minion1016_v3_WFDvisits_nside512_WFDvisitsInuDD.csv.\n",
      "Outdir: /Users/humnaawan/repos/DC2_Repo/scripts/visitGen/../../protoDC2Visits_nside512/visitLists/.\n",
      "\n",
      "Saved data in DC2RegionPixels_minion1016_v3_WFDvisits_nside512_WFDvisitsInuDD.csv.\n",
      "Outdir: /Users/humnaawan/repos/DC2_Repo/scripts/visitGen/../../protoDC2Visits_nside512/regionPixels/.\n",
      "\n",
      "Time taken (s): 747.002\n"
     ]
    }
   ],
   "source": [
    "# get WFD visits that fall in the uDDF footprint\n",
    "startTime= time.time()\n",
    "surveyRegionTag= 'WFD'\n",
    "\n",
    "out= getDC2VisitList(dbpath, simDataTag, surveyRegionTag, pointingRACol, pointingDecCol,\n",
    "                     outDir, nside, regionCorners['DD'],\n",
    "                    filters= ['u', 'g', 'r', 'i', 'z', 'y'], outFileTag= 'WFDvisitsInuDD')\n",
    "\n",
    "surveyRegionTag= 'WFD_inDD'\n",
    "simdata[surveyRegionTag], regionPixels[surveyRegionTag], obsIDsList[surveyRegionTag], fIDsList[surveyRegionTag], bandList[surveyRegionTag]= out\n",
    "\n",
    "print('\\nTime taken (s): %.3f'%(time.time()-startTime))"
   ]
  },
  {
   "cell_type": "markdown",
   "metadata": {},
   "source": [
    "#### Plot the sims for checks."
   ]
  },
  {
   "cell_type": "code",
   "execution_count": 14,
   "metadata": {},
   "outputs": [],
   "source": [
    "from DC2_visitsSim import DC2VisitsSim"
   ]
  },
  {
   "cell_type": "code",
   "execution_count": 15,
   "metadata": {},
   "outputs": [],
   "source": [
    "ras, decs= [], []\n",
    "for key in regionCorners:\n",
    "    for i in regionCorners[key]:\n",
    "        ras.append(i[0])\n",
    "        decs.append(i[1])\n",
    "    \n",
    "minRA, maxRA= min(ras), max(ras)\n",
    "minDec, maxDec= min(decs), max(decs)"
   ]
  },
  {
   "cell_type": "code",
   "execution_count": 16,
   "metadata": {
    "scrolled": true
   },
   "outputs": [
    {
     "name": "stdout",
     "output_type": "stream",
     "text": [
      "Saved  hIDs_0-100Index_WFD_test_nside512.gif\n"
     ]
    }
   ],
   "source": [
    "surveyRegionTag= 'WFD'\n",
    "DC2VisitsSim(outDir+'gifs/', 'WFD_test', simdata[surveyRegionTag], pointingRACol, pointingDecCol,\n",
    "                 obsIDsList[surveyRegionTag], fIDsList[surveyRegionTag], bandList[surveyRegionTag],\n",
    "                 regionPixels_WFD= regionPixels['WFD'], regionPixels_DD= regionPixels['DD'],\n",
    "                 nside= nside,\n",
    "                 obsHistIndMin= 0, obsHistIndMax= 100,\n",
    "             minRA= minRA, maxRA= maxRA, minDec= minDec, maxDec= maxDec)"
   ]
  },
  {
   "cell_type": "code",
   "execution_count": 17,
   "metadata": {},
   "outputs": [
    {
     "name": "stdout",
     "output_type": "stream",
     "text": [
      "Saved  hIDs_0-100Index_uDD_test_nside512.gif\n"
     ]
    }
   ],
   "source": [
    "surveyRegionTag= 'DD'\n",
    "DC2VisitsSim(outDir+'gifs/', 'uDD_test', simdata[surveyRegionTag], pointingRACol, pointingDecCol,\n",
    "                 obsIDsList[surveyRegionTag], fIDsList[surveyRegionTag], bandList[surveyRegionTag],\n",
    "                 regionPixels_WFD= regionPixels['WFD'], regionPixels_DD= regionPixels['DD'],\n",
    "                 nside= nside,\n",
    "                 obsHistIndMin= 0, obsHistIndMax= 100,\n",
    "             minRA= minRA, maxRA= maxRA, minDec= minDec, maxDec= maxDec)"
   ]
  },
  {
   "cell_type": "code",
   "execution_count": 18,
   "metadata": {},
   "outputs": [
    {
     "name": "stdout",
     "output_type": "stream",
     "text": [
      "Saved  hIDs_0-100Index_WFDinUDD_test_nside512.gif\n"
     ]
    }
   ],
   "source": [
    "surveyRegionTag= 'WFD_inDD'\n",
    "DC2VisitsSim(outDir+'gifs/', 'WFDinUDD_test', simdata[surveyRegionTag], pointingRACol, pointingDecCol,\n",
    "                 obsIDsList[surveyRegionTag], fIDsList[surveyRegionTag], bandList[surveyRegionTag],\n",
    "                 regionPixels_WFD= regionPixels['WFD'], regionPixels_DD= regionPixels['DD'],\n",
    "                 nside= nside,\n",
    "                 obsHistIndMin= 0, obsHistIndMax= 100,\n",
    "             minRA= minRA, maxRA= maxRA, minDec= minDec, maxDec= maxDec)"
   ]
  },
  {
   "cell_type": "code",
   "execution_count": null,
   "metadata": {},
   "outputs": [],
   "source": []
  }
 ],
 "metadata": {
  "kernelspec": {
   "display_name": "Python 3",
   "language": "python",
   "name": "python3"
  },
  "language_info": {
   "codemirror_mode": {
    "name": "ipython",
    "version": 3
   },
   "file_extension": ".py",
   "mimetype": "text/x-python",
   "name": "python",
   "nbconvert_exporter": "python",
   "pygments_lexer": "ipython3",
   "version": "3.6.2"
  }
 },
 "nbformat": 4,
 "nbformat_minor": 2
}
