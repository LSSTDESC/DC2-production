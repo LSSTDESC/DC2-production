{
 "cells": [
  {
   "cell_type": "markdown",
   "metadata": {},
   "source": [
    "# Verify and validate merged and matched truth catalogs\n",
    "\n",
    "**Author**: Yao-Yuan Mao (@yymao)\n",
    "    \n",
    "This notebook is used to verify and validate the merged and matched truth catalogs, which are the data products from\n",
    "`scripts/repartition_into_tracts.py` and `scripts/merge_truth_per_tract.py`."
   ]
  },
  {
   "cell_type": "code",
   "execution_count": null,
   "metadata": {},
   "outputs": [],
   "source": [
    "import numpy as np\n",
    "import matplotlib.pyplot as plt\n",
    "%matplotlib inline\n",
    "\n",
    "from astropy.table import Table\n",
    "import astropy.units as u\n",
    "import pandas as pd\n",
    "from easyquery import *"
   ]
  },
  {
   "cell_type": "code",
   "execution_count": null,
   "metadata": {},
   "outputs": [],
   "source": [
    "tract = 3259\n",
    "\n",
    "truth_path = f\"/global/cscratch1/sd/yymao/desc/truth_run2.2_merged/truth_tract{tract}.parquet\"\n",
    "\n",
    "object_path = f\"/global/cfs/cdirs/lsst/shared/DC2-prod/Run2.2i/dpdd/Run2.2i-dr6-wfd-v1/dc2_object_run2.2i_dr6_wfd_v1/dc2_object_run2.2i_dr6_wfd_v1_tract{tract}.parquet\"\n",
    "\n",
    "javi_path = f\"/global/cfs/cdirs/lsst/shared/DC2-prod/Run2.2i/addons/matched/dr6/matched_ids_dc2_object_run2.2i_dr6_wfd_with_metacal_{tract}.fits.gz\""
   ]
  },
  {
   "cell_type": "markdown",
   "metadata": {},
   "source": [
    "### Basic validation"
   ]
  },
  {
   "cell_type": "code",
   "execution_count": null,
   "metadata": {},
   "outputs": [],
   "source": [
    "truth_cat = pd.read_parquet(truth_path)"
   ]
  },
  {
   "cell_type": "code",
   "execution_count": null,
   "metadata": {},
   "outputs": [],
   "source": [
    "plt.hist(Query(\"match_sep > -1\").filter(truth_cat, \"match_sep\").values, 101);\n",
    "plt.yscale(\"log\");\n",
    "plt.xlabel(\"nearest neighbor [arcsec]\");"
   ]
  },
  {
   "cell_type": "code",
   "execution_count": null,
   "metadata": {},
   "outputs": [],
   "source": [
    "is_matched = Query(\"match_objectId > -1\")\n",
    "is_gal = Query(\"cosmodc2_id > -1\")\n",
    "is_star = Query(~is_gal, \"is_sn == 0\")\n",
    "is_sn = Query(~is_gal, \"is_sn\")\n",
    "is_unique = Query(\"is_unique_truth_entry\")\n",
    "\n",
    "n_matched = is_matched.count(truth_cat)\n",
    "n_unmatched = len(truth_cat) - n_matched\n",
    "\n",
    "print()\n",
    "print(\"Among matched truth entries\")\n",
    "print(\"% of duplicated truth\", Query(is_matched, ~is_unique).count(truth_cat) / n_matched * 100)\n",
    "print(\"% of unique galaxy\", Query(is_matched, is_unique, is_gal).count(truth_cat) / n_matched * 100)\n",
    "print(\"% of unique stars\", Query(is_matched, is_unique, is_star).count(truth_cat) / n_matched * 100)\n",
    "print(\"% of unique SNe\", Query(is_matched, is_unique, is_sn).count(truth_cat) / n_matched * 100)\n",
    "\n",
    "print()\n",
    "print(\"Among unmatched truth entries\")\n",
    "print(\"% of galaxy\", Query(~is_matched, is_gal).count(truth_cat) / n_unmatched * 100)\n",
    "print(\"% of stars\", Query(~is_matched, is_star).count(truth_cat) / n_unmatched * 100)\n",
    "print(\"% of SNe\", Query(~is_matched, is_sn).count(truth_cat) / n_unmatched * 100)\n",
    "\n",
    "print(\"\")\n",
    "print(\"% matched among all truth entries\", Query(is_matched, is_unique).count(truth_cat) / is_unique.count(truth_cat) * 100)\n",
    "print(\"% matched among galaxies\", Query(is_matched, is_unique, is_gal).count(truth_cat) / Query(is_unique, is_gal).count(truth_cat) * 100)\n",
    "print(\"% matched among stars\", Query(is_matched, is_unique, is_star).count(truth_cat) / Query(is_unique, is_star).count(truth_cat) * 100)\n",
    "print(\"% matched among SNe\", Query(is_matched, is_unique, is_sn).count(truth_cat) / Query(is_unique, is_sn).count(truth_cat) * 100)"
   ]
  },
  {
   "cell_type": "code",
   "execution_count": null,
   "metadata": {},
   "outputs": [],
   "source": [
    "def flux_to_mag(flux):\n",
    "    return (flux*u.nJy).to_value(u.ABmag)\n",
    "\n",
    "def add_mag_columns(df, bands=\"ugrizy\"):\n",
    "    for band in bands:\n",
    "        df[\"mag_\"+band] = flux_to_mag(df[\"flux_\"+band].values)"
   ]
  },
  {
   "cell_type": "code",
   "execution_count": null,
   "metadata": {},
   "outputs": [],
   "source": [
    "galaxies = Query(is_gal, is_unique).filter(truth_cat, [\"match_objectId\", \"flux_r\"]).copy()\n",
    "add_mag_columns(galaxies, \"r\")"
   ]
  },
  {
   "cell_type": "code",
   "execution_count": null,
   "metadata": {},
   "outputs": [],
   "source": [
    "plt.hist(is_matched.filter(galaxies, \"mag_r\").values, np.linspace(14, 29.5, 51), alpha=0.4, label=\"matched (22.3%)\");\n",
    "plt.hist((~is_matched).filter(galaxies, \"mag_r\").values, np.linspace(14, 29.5, 51), alpha=0.4, label=\"not matched (77.7%)\");\n",
    "plt.yscale(\"log\")\n",
    "plt.xlabel(\"galaxy $r$-band magnitude\");\n",
    "plt.legend();"
   ]
  },
  {
   "cell_type": "markdown",
   "metadata": {},
   "source": [
    "### Check with object catalog"
   ]
  },
  {
   "cell_type": "code",
   "execution_count": null,
   "metadata": {},
   "outputs": [],
   "source": [
    "object_cat = pd.read_parquet(object_path, columns=[\"objectId\", \"mag_r_cModel\", \"mag_i_cModel\", \"extendness\"])\n",
    "object_cat = pd.concat([object_cat, truth_cat[:len(object_cat)]], 1)\n",
    "assert object_cat.eval(\"objectId == match_objectId\").all()"
   ]
  },
  {
   "cell_type": "code",
   "execution_count": null,
   "metadata": {},
   "outputs": [],
   "source": [
    "add_mag_columns(object_cat, \"ri\")"
   ]
  },
  {
   "cell_type": "code",
   "execution_count": null,
   "metadata": {},
   "outputs": [],
   "source": [
    "plt.hist(object_cat.eval(\"mag_r_cModel - mag_r\").values, np.linspace(-10, 10, 101));\n",
    "plt.yscale(\"log\");\n",
    "plt.xlabel(\"magnitude difference (obs - true)\");"
   ]
  },
  {
   "cell_type": "markdown",
   "metadata": {},
   "source": [
    "### Check with Javi's matched catalog"
   ]
  },
  {
   "cell_type": "code",
   "execution_count": null,
   "metadata": {},
   "outputs": [],
   "source": [
    "javi_cat = Table.read(javi_path).to_pandas()\n",
    "\n",
    "javi_cat = pd.concat([javi_cat, truth_cat[:len(javi_cat)].rename(columns={\"ra\": \"ra_truth\", \"dec\": \"dec_truth\"})], 1)\n",
    "\n",
    "assert len(javi_cat.columns) == len(set(javi_cat.columns))\n",
    "assert javi_cat.eval(\"objectId == match_objectId\").all()"
   ]
  },
  {
   "cell_type": "code",
   "execution_count": null,
   "metadata": {},
   "outputs": [],
   "source": [
    "javi_cat[\"truthId_str\"] = javi_cat[\"truthId\"].astype(str)"
   ]
  },
  {
   "cell_type": "code",
   "execution_count": null,
   "metadata": {},
   "outputs": [],
   "source": [
    "matched = Query(\"is_matched\").filter(javi_cat).copy()\n",
    "add_mag_columns(matched)"
   ]
  },
  {
   "cell_type": "code",
   "execution_count": null,
   "metadata": {},
   "outputs": [],
   "source": [
    "np.count_nonzero(matched[\"truthId_str\"] == matched[\"id\"]) / len(matched)"
   ]
  },
  {
   "cell_type": "code",
   "execution_count": null,
   "metadata": {},
   "outputs": [],
   "source": [
    "same_matches = matched[matched[\"truthId_str\"] == matched[\"id\"]]\n",
    "diff_matches = matched[matched[\"truthId_str\"] != matched[\"id\"]]"
   ]
  },
  {
   "cell_type": "code",
   "execution_count": null,
   "metadata": {},
   "outputs": [],
   "source": [
    "plt.hist(same_matches[\"mag_r\"].values, np.linspace(14, 29.5, 51), alpha=0.4, label=\"Same matches as Javi (94.1%)\");\n",
    "plt.hist(diff_matches[\"mag_r\"].values, np.linspace(14, 29.5, 51), alpha=0.4, label=\"Different matches (5.9%)\");\n",
    "plt.yscale(\"log\");\n",
    "plt.xlabel(\"$r$-band magnitude\");\n",
    "plt.legend();"
   ]
  },
  {
   "cell_type": "code",
   "execution_count": null,
   "metadata": {},
   "outputs": [],
   "source": [
    "large_sep = diff_matches[\"match_sep\"] > 1\n",
    "plt.scatter(diff_matches[\"ra_truth\"][large_sep], diff_matches[\"dec_truth\"][large_sep], c=\"C1\", s=0.1, rasterized=True)"
   ]
  },
  {
   "cell_type": "code",
   "execution_count": null,
   "metadata": {},
   "outputs": [],
   "source": [
    "plt.hist(diff_matches[\"dist\"])\n",
    "plt.yscale(\"log\")\n",
    "plt.xlabel(\"sep [arcsec]\");"
   ]
  },
  {
   "cell_type": "code",
   "execution_count": null,
   "metadata": {},
   "outputs": [],
   "source": [
    "plt.hist(diff_matches[\"match_sep\"])\n",
    "plt.yscale(\"log\")\n",
    "plt.xlabel(\"sep [arcsec]\");"
   ]
  },
  {
   "cell_type": "code",
   "execution_count": null,
   "metadata": {},
   "outputs": [],
   "source": []
  }
 ],
 "metadata": {
  "kernelspec": {
   "display_name": "desc-python",
   "language": "python",
   "name": "desc-python"
  },
  "language_info": {
   "codemirror_mode": {
    "name": "ipython",
    "version": 3
   },
   "file_extension": ".py",
   "mimetype": "text/x-python",
   "name": "python",
   "nbconvert_exporter": "python",
   "pygments_lexer": "ipython3",
   "version": "3.7.6"
  }
 },
 "nbformat": 4,
 "nbformat_minor": 4
}
