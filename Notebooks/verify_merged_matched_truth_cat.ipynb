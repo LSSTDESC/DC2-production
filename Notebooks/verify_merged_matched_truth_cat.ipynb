{
 "cells": [
  {
   "cell_type": "markdown",
   "metadata": {},
   "source": [
    "# Verify and validate merged and matched truth catalogs\n",
    "\n",
    "**Author**: Yao-Yuan Mao (@yymao)\n",
    "    \n",
    "This notebook is used to verify and validate the merged and matched truth catalogs, which are the data products from\n",
    "`scripts/repartition_into_tracts.py` and `scripts/merge_truth_per_tract.py`."
   ]
  },
  {
   "cell_type": "code",
   "execution_count": null,
   "metadata": {},
   "outputs": [],
   "source": [
    "import numpy as np\n",
    "import matplotlib.pyplot as plt\n",
    "%matplotlib inline\n",
    "\n",
    "from astropy.table import Table\n",
    "import astropy.units as u\n",
    "from astropy.coordinates import SkyCoord\n",
    "\n",
    "import pandas as pd\n",
    "from easyquery import Query, QueryMaker"
   ]
  },
  {
   "cell_type": "code",
   "execution_count": null,
   "metadata": {},
   "outputs": [],
   "source": [
    "tract = 3259\n",
    "\n",
    "truth_path = f\"/global/cscratch1/sd/yymao/desc/truth_run2.2_merged/truth_tract{tract}.parquet\"\n",
    "\n",
    "object_path = f\"/global/cfs/cdirs/lsst/shared/DC2-prod/Run2.2i/dpdd/Run2.2i-dr6-wfd-v1/dc2_object_run2.2i_dr6_wfd_v1/dc2_object_run2.2i_dr6_wfd_v1_tract{tract}.parquet\"\n",
    "\n",
    "javi_path = f\"/global/cfs/cdirs/lsst/shared/DC2-prod/Run2.2i/addons/matched/dr6/matched_ids_dc2_object_run2.2i_dr6_wfd_with_metacal_{tract}.fits.gz\""
   ]
  },
  {
   "cell_type": "markdown",
   "metadata": {},
   "source": [
    "### Basic validation"
   ]
  },
  {
   "cell_type": "code",
   "execution_count": null,
   "metadata": {},
   "outputs": [],
   "source": [
    "truth_cat = pd.read_parquet(truth_path)"
   ]
  },
  {
   "cell_type": "code",
   "execution_count": null,
   "metadata": {},
   "outputs": [],
   "source": [
    "truth_cat.columns"
   ]
  },
  {
   "cell_type": "code",
   "execution_count": null,
   "metadata": {},
   "outputs": [],
   "source": [
    "plt.hist(Query(\"match_sep > -1\").filter(truth_cat, \"match_sep\").values, 101);\n",
    "plt.yscale(\"log\");\n",
    "plt.xlabel(\"nearest neighbor [arcsec]\");"
   ]
  },
  {
   "cell_type": "code",
   "execution_count": null,
   "metadata": {},
   "outputs": [],
   "source": [
    "is_matched = Query(\"match_objectId > -1\")\n",
    "is_gal = Query(\"truth_type == 1\")\n",
    "is_star = Query(\"truth_type == 2\")\n",
    "is_sn = Query(\"truth_type == 3\")\n",
    "is_unique = Query(\"is_unique_truth_entry\")\n",
    "\n",
    "n_matched = is_matched.count(truth_cat)\n",
    "n_unmatched = len(truth_cat) - n_matched\n",
    "\n",
    "print()\n",
    "print(\"Among matched truth entries\")\n",
    "print(\"% of duplicated truth\", Query(is_matched, ~is_unique).count(truth_cat) / n_matched * 100)\n",
    "print(\"% of unique galaxy\", Query(is_matched, is_unique, is_gal).count(truth_cat) / n_matched * 100)\n",
    "print(\"% of unique stars\", Query(is_matched, is_unique, is_star).count(truth_cat) / n_matched * 100)\n",
    "print(\"% of unique SNe\", Query(is_matched, is_unique, is_sn).count(truth_cat) / n_matched * 100)\n",
    "\n",
    "print()\n",
    "print(\"Among unmatched truth entries\")\n",
    "print(\"% of galaxy\", Query(~is_matched, is_gal).count(truth_cat) / n_unmatched * 100)\n",
    "print(\"% of stars\", Query(~is_matched, is_star).count(truth_cat) / n_unmatched * 100)\n",
    "print(\"% of SNe\", Query(~is_matched, is_sn).count(truth_cat) / n_unmatched * 100)\n",
    "\n",
    "print(\"\")\n",
    "print(\"% matched among all truth entries\", Query(is_matched, is_unique).count(truth_cat) / is_unique.count(truth_cat) * 100)\n",
    "print(\"% matched among galaxies\", Query(is_matched, is_unique, is_gal).count(truth_cat) / Query(is_unique, is_gal).count(truth_cat) * 100)\n",
    "print(\"% matched among stars\", Query(is_matched, is_unique, is_star).count(truth_cat) / Query(is_unique, is_star).count(truth_cat) * 100)\n",
    "print(\"% matched among SNe\", Query(is_matched, is_unique, is_sn).count(truth_cat) / Query(is_unique, is_sn).count(truth_cat) * 100)"
   ]
  },
  {
   "cell_type": "code",
   "execution_count": null,
   "metadata": {},
   "outputs": [],
   "source": [
    "def flux_to_mag(flux):\n",
    "    with np.errstate(divide=\"ignore\"):\n",
    "        return (flux*u.nJy).to_value(u.ABmag)\n",
    "\n",
    "def add_mag_columns(df, bands=\"ugrizy\"):\n",
    "    for band in bands:\n",
    "        df[\"mag_\"+band] = flux_to_mag(df[\"flux_\"+band].values)"
   ]
  },
  {
   "cell_type": "code",
   "execution_count": null,
   "metadata": {},
   "outputs": [],
   "source": [
    "add_mag_columns(truth_cat, \"r\")"
   ]
  },
  {
   "cell_type": "code",
   "execution_count": null,
   "metadata": {},
   "outputs": [],
   "source": [
    "galaxies = Query(is_gal, is_unique).filter(truth_cat, [\"match_objectId\", \"mag_r\"])\n",
    "matched_frac = is_matched.count(galaxies) / len(galaxies)\n",
    "\n",
    "plt.hist(is_matched.filter(galaxies, \"mag_r\").values, np.linspace(14, 29.5, 51), alpha=0.4, label=f\"matched ({matched_frac*100:.1f}%)\");\n",
    "plt.hist((~is_matched).filter(galaxies, \"mag_r\").values, np.linspace(14, 29.5, 51), alpha=0.4, label=f\"not matched ({100-matched_frac*100:.1f}%)\");\n",
    "plt.yscale(\"log\")\n",
    "plt.xlabel(\"truth galaxy $r$-band magnitude\");\n",
    "plt.legend();"
   ]
  },
  {
   "cell_type": "code",
   "execution_count": null,
   "metadata": {},
   "outputs": [],
   "source": [
    "unmatched_bright_truth = Query(~is_matched, \"mag_r < 20\", is_gal).filter(truth_cat)\n",
    "unmatched_bright_truth"
   ]
  },
  {
   "cell_type": "markdown",
   "metadata": {},
   "source": [
    "### Check with object catalog"
   ]
  },
  {
   "cell_type": "code",
   "execution_count": null,
   "metadata": {},
   "outputs": [],
   "source": [
    "object_cat = pd.read_parquet(object_path, columns=[\"objectId\", \"ra\", \"dec\", \"mag_r_cModel\", \"extendedness\"])\n",
    "object_cat = pd.concat([object_cat, truth_cat[:len(object_cat)].rename(columns={\"ra\": \"ra_truth\", \"dec\": \"dec_truth\"})], 1)\n",
    "assert object_cat.eval(\"objectId == match_objectId\").all()"
   ]
  },
  {
   "cell_type": "markdown",
   "metadata": {},
   "source": [
    "#### Magnitude difference between matches"
   ]
  },
  {
   "cell_type": "code",
   "execution_count": null,
   "metadata": {},
   "outputs": [],
   "source": [
    "add_mag_columns(object_cat, \"r\")"
   ]
  },
  {
   "cell_type": "code",
   "execution_count": null,
   "metadata": {},
   "outputs": [],
   "source": [
    "plt.hist(object_cat.eval(\"mag_r_cModel - mag_r\").values, np.linspace(-10, 10, 101));\n",
    "plt.yscale(\"log\");\n",
    "plt.xlabel(\"magnitude difference (obs - true)\");"
   ]
  },
  {
   "cell_type": "markdown",
   "metadata": {},
   "source": [
    "#### How about those bright unmatched objects?"
   ]
  },
  {
   "cell_type": "code",
   "execution_count": null,
   "metadata": {},
   "outputs": [],
   "source": [
    "sc = SkyCoord(unmatched_bright_truth[\"ra\"].to_numpy(), unmatched_bright_truth[\"dec\"].to_numpy(), unit=\"deg\")\n",
    "obj_sc = SkyCoord(object_cat[\"ra\"].to_numpy(), object_cat[\"dec\"].to_numpy(), unit=\"deg\")\n",
    "truth_unique = is_unique.filter(truth_cat)\n",
    "truth_sc = SkyCoord(truth_unique[\"ra\"].to_numpy(), truth_unique[\"dec\"].to_numpy(), unit=\"deg\")\n",
    "for sc_this, unmatch_id in zip(sc, unmatched_bright_truth[\"id\"]):\n",
    "    print(unmatch_id)\n",
    "\n",
    "    sep = obj_sc.separation(sc_this).arcsec\n",
    "    sep_mask = sep < 2\n",
    "    d = object_cat[[\"objectId\", \"mag_r_cModel\", \"extendedness\", \"id\", \"match_objectId\", \"match_sep\", \"mag_r\"]][sep_mask]\n",
    "    d[\"sep\"] = sep[sep_mask]\n",
    "    d = d.sort_values(\"sep\")\n",
    "    display(d)\n",
    "    \n",
    "    sep = truth_sc.separation(sc_this).arcsec\n",
    "    sep_mask = sep < 2\n",
    "    d = truth_unique[[\"id\", \"mag_r\", \"cosmodc2_id\", \"cosmodc2_hp\", \"redshift\", \"match_objectId\", \"match_sep\"]][sep_mask]\n",
    "    d[\"sep\"] = sep[sep_mask]\n",
    "    d = d.sort_values(\"sep\")\n",
    "    display(d)"
   ]
  },
  {
   "cell_type": "markdown",
   "metadata": {},
   "source": [
    "### Check with Javi's matched catalog"
   ]
  },
  {
   "cell_type": "code",
   "execution_count": null,
   "metadata": {},
   "outputs": [],
   "source": [
    "javi_cat = Table.read(javi_path).to_pandas()\n",
    "javi_cat = pd.concat([javi_cat, truth_cat[:len(javi_cat)].rename(columns={\"ra\": \"ra_truth\", \"dec\": \"dec_truth\"})], 1)\n",
    "\n",
    "assert len(javi_cat.columns) == len(set(javi_cat.columns))\n",
    "assert javi_cat.eval(\"objectId == match_objectId\").all()"
   ]
  },
  {
   "cell_type": "code",
   "execution_count": null,
   "metadata": {},
   "outputs": [],
   "source": [
    "javi_cat[\"truthId_str\"] = javi_cat[\"truthId\"].astype(str)\n",
    "\n",
    "javi_not_matched = Query(\"is_matched == 0\").filter(javi_cat)\n",
    "javi_matched = Query(\"is_matched\").filter(javi_cat)\n",
    "\n",
    "same_matches = Query((np.equal, \"truthId_str\", \"id\")).filter(javi_matched)\n",
    "diff_matches = Query((np.not_equal, \"truthId_str\", \"id\")).filter(javi_matched)"
   ]
  },
  {
   "cell_type": "code",
   "execution_count": null,
   "metadata": {},
   "outputs": [],
   "source": [
    "same_matched_frac = len(same_matches) / (len(same_matches) + len(javi_matched))\n",
    "\n",
    "plt.hist(same_matches[\"mag_r\"].values, np.linspace(14, 29.5, 51), alpha=0.4, label=f\"Same matches as Javi ({same_matched_frac*100:.1f}%)\");\n",
    "plt.hist(diff_matches[\"mag_r\"].values, np.linspace(14, 29.5, 51), alpha=0.4, label=f\"Different matches ({100-same_matched_frac*100:.1f}%)\");\n",
    "plt.yscale(\"log\");\n",
    "plt.xlabel(\"$r$-band magnitude\");\n",
    "plt.legend();"
   ]
  },
  {
   "cell_type": "markdown",
   "metadata": {},
   "source": [
    "#### How do those with different matches distribute spatailly?"
   ]
  },
  {
   "cell_type": "code",
   "execution_count": null,
   "metadata": {},
   "outputs": [],
   "source": [
    "larger_sep = (diff_matches[\"match_sep\"] > np.rad2deg(diff_matches[\"dist\"]))\n",
    "\n",
    "print(np.count_nonzero(larger_sep) / len(diff_matches) * 100, \"%\")\n",
    "\n",
    "plt.scatter(diff_matches[\"ra_truth\"], diff_matches[\"dec_truth\"], c=\"C1\", s=0.01, rasterized=True);\n",
    "plt.scatter(diff_matches[\"ra_truth\"][larger_sep], diff_matches[\"dec_truth\"][larger_sep], c=\"C3\", s=2, rasterized=True);"
   ]
  },
  {
   "cell_type": "markdown",
   "metadata": {},
   "source": [
    "#### Do those have different matches all present in the new truth catalog?"
   ]
  },
  {
   "cell_type": "code",
   "execution_count": null,
   "metadata": {},
   "outputs": [],
   "source": [
    "truth_ids = np.concatenate([\n",
    "    Query(is_gal, is_unique).filter(truth_cat, \"cosmodc2_id\"),\n",
    "    Query(is_star, is_unique).filter(truth_cat, \"id\").astype(int),\n",
    "])"
   ]
  },
  {
   "cell_type": "code",
   "execution_count": null,
   "metadata": {},
   "outputs": [],
   "source": [
    "id_not_in_new_truth = QueryMaker.in1d(\"truthId\", truth_ids, invert=True)\n",
    "\n",
    "print(id_not_in_new_truth.count(diff_matches) / len(javi_cat) * 100, \"%\")\n",
    "print(id_not_in_new_truth.count(diff_matches) / len(diff_matches) * 100, \"%\")\n",
    "\n",
    "plt.scatter(id_not_in_new_truth.filter(diff_matches, \"ra_truth\"), id_not_in_new_truth.filter(diff_matches, \"dec_truth\"), c=\"C1\", s=1, rasterized=True);\n",
    "\n",
    "in_different_tract = Query(id_not_in_new_truth, \"mag_r_lsst < 29\")\n",
    "\n",
    "print(in_different_tract.count(diff_matches) / len(javi_cat) * 100, \"%\")\n",
    "print(in_different_tract.count(diff_matches) / len(diff_matches) * 100, \"%\")\n",
    "\n",
    "plt.scatter(in_different_tract.filter(diff_matches, \"ra_truth\"), in_different_tract.filter(diff_matches, \"dec_truth\"), c=\"C3\", s=4, rasterized=True);"
   ]
  },
  {
   "cell_type": "code",
   "execution_count": null,
   "metadata": {},
   "outputs": [],
   "source": []
  }
 ],
 "metadata": {
  "kernelspec": {
   "display_name": "desc-python",
   "language": "python",
   "name": "desc-python"
  },
  "language_info": {
   "codemirror_mode": {
    "name": "ipython",
    "version": 3
   },
   "file_extension": ".py",
   "mimetype": "text/x-python",
   "name": "python",
   "nbconvert_exporter": "python",
   "pygments_lexer": "ipython3",
   "version": "3.7.6"
  }
 },
 "nbformat": 4,
 "nbformat_minor": 4
}
