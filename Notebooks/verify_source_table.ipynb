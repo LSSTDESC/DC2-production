{
 "cells": [
  {
   "cell_type": "markdown",
   "metadata": {},
   "source": [
    "# Inspect and Verify that the Source Table is reasonable\n",
    "Michael Wood-Vasey"
   ]
  },
  {
   "cell_type": "markdown",
   "metadata": {},
   "source": [
    "To test the Source Table before it's in production we use a copy of our local branch of `gcr-catalogs`, `issues/274`.\n",
    "Replace the path below in the `sys.path.insert` with the location of your own local checkout."
   ]
  },
  {
   "cell_type": "code",
   "execution_count": null,
   "metadata": {},
   "outputs": [],
   "source": [
    "import sys\n",
    "sys.path.insert(0, '/global/homes/w/wmwv/local/lsst/gcr-catalogs')"
   ]
  },
  {
   "cell_type": "code",
   "execution_count": null,
   "metadata": {},
   "outputs": [],
   "source": [
    "import os\n",
    "\n",
    "import numpy as np\n",
    "import pandas as pd\n",
    "\n",
    "import GCRCatalogs"
   ]
  },
  {
   "cell_type": "code",
   "execution_count": null,
   "metadata": {},
   "outputs": [],
   "source": [
    "%matplotlib inline\n",
    "\n",
    "import matplotlib.pyplot as plt"
   ]
  },
  {
   "cell_type": "code",
   "execution_count": null,
   "metadata": {},
   "outputs": [],
   "source": [
    "object_reader = 'dc2_object_run1.2i'\n",
    "source_reader = 'dc2_source_run1.2i'\n",
    "# source_reader_config = {'base_dir': '/global/cscratch1/sd/wmwv/DC2/Run1.2i/src_visit'}\n",
    "source_reader_config = {}"
   ]
  },
  {
   "cell_type": "code",
   "execution_count": null,
   "metadata": {},
   "outputs": [],
   "source": [
    "dpdd_parquet_file = 'dpdd_dc2_object_run1.2i.parquet'\n",
    "dpdd_parquet_dir = '/global/projecta/projectdirs/lsst/global/in2p3/Run1.2i/object_catalog_new'\n",
    "object_table_parquet_file = os.path.join(dpdd_parquet_dir, dpdd_parquet_file)\n",
    "\n",
    "source_table_parquet_file = '../test_src_visit_241985.parquet'"
   ]
  },
  {
   "cell_type": "code",
   "execution_count": null,
   "metadata": {},
   "outputs": [],
   "source": [
    "# object_table = pd.read_parquet(object_table_parquet_file)\n",
    "# source_table = pd.read_parquet(source_table_parquet_file)"
   ]
  },
  {
   "cell_type": "code",
   "execution_count": null,
   "metadata": {},
   "outputs": [],
   "source": [
    "object_table = GCRCatalogs.load_catalog(object_reader)"
   ]
  },
  {
   "cell_type": "code",
   "execution_count": null,
   "metadata": {},
   "outputs": [],
   "source": [
    "source_table = GCRCatalogs.load_catalog(source_reader, config_overwrite=source_reader_config)"
   ]
  },
  {
   "cell_type": "code",
   "execution_count": null,
   "metadata": {},
   "outputs": [],
   "source": [
    "# source_table.generate_schema_yaml()"
   ]
  },
  {
   "cell_type": "code",
   "execution_count": null,
   "metadata": {},
   "outputs": [],
   "source": [
    "print(len(object_table), len(source_table))"
   ]
  },
  {
   "cell_type": "code",
   "execution_count": null,
   "metadata": {},
   "outputs": [],
   "source": [
    "# Match the object ID and check that we really got the right thing in the source table ID"
   ]
  },
  {
   "cell_type": "code",
   "execution_count": null,
   "metadata": {},
   "outputs": [],
   "source": [
    "bright_ids = pd.DataFrame(source_table.get_quantities(['sourceId', 'objectId'], native_filters=['mag_err < 0.05']))"
   ]
  },
  {
   "cell_type": "code",
   "execution_count": null,
   "metadata": {},
   "outputs": [],
   "source": [
    "all_ids = pd.DataFrame(source_table.get_quantities(['sourceId', 'objectId', 'ra', 'dec', 'mag', 'mag_err']))"
   ]
  },
  {
   "cell_type": "code",
   "execution_count": null,
   "metadata": {},
   "outputs": [],
   "source": [
    "all_ids['mag_err']"
   ]
  },
  {
   "cell_type": "code",
   "execution_count": null,
   "metadata": {},
   "outputs": [],
   "source": [
    "bright_ids = all_ids[all_ids['mag_err'] < 0.05]"
   ]
  },
  {
   "cell_type": "code",
   "execution_count": null,
   "metadata": {},
   "outputs": [],
   "source": [
    "len(bright_ids)"
   ]
  },
  {
   "cell_type": "code",
   "execution_count": null,
   "metadata": {},
   "outputs": [],
   "source": [
    "plt.hexbin(bright_ids['mag'], bright_ids['mag_err'])\n",
    "plt.xlabel('mag')\n",
    "plt.ylabel('mag_err')\n",
    "plt.xlim(14, 25)"
   ]
  },
  {
   "cell_type": "markdown",
   "metadata": {},
   "source": [
    "### Looking for objectId for one source\n",
    "Let's look for all matching Sources for one object.\n",
    "Let's just take the first entry from the bright_ids, assuming bright sources should be detected in the coadd and have an objectId.\n",
    "\n",
    "Basic checks:\n",
    "  * Do the RA, Dec values agree across the Source measurements?\n",
    "  * Do they agree with the Object Table RA, Dec?"
   ]
  },
  {
   "cell_type": "code",
   "execution_count": null,
   "metadata": {},
   "outputs": [],
   "source": [
    "this_object_id = bright_ids['objectId'].values[0]\n",
    "these_sources = bright_ids[bright_ids['objectId'] == this_object_id] "
   ]
  },
  {
   "cell_type": "code",
   "execution_count": null,
   "metadata": {},
   "outputs": [],
   "source": [
    "print(these_sources[['sourceId', 'objectId', 'ra', 'dec']])"
   ]
  },
  {
   "cell_type": "code",
   "execution_count": null,
   "metadata": {},
   "outputs": [],
   "source": [
    "object_df = pd.DataFrame(object_table.get_quantities(['id', 'ra', 'dec']))\n",
    "this_object = object_df[object_df['id'] == this_object_id]"
   ]
  },
  {
   "cell_type": "code",
   "execution_count": null,
   "metadata": {},
   "outputs": [],
   "source": [
    "this_object"
   ]
  },
  {
   "cell_type": "markdown",
   "metadata": {},
   "source": [
    "Yes!  Looks good."
   ]
  },
  {
   "cell_type": "code",
   "execution_count": null,
   "metadata": {},
   "outputs": [],
   "source": [
    "source_table.list_all_quantities()"
   ]
  },
  {
   "cell_type": "code",
   "execution_count": null,
   "metadata": {},
   "outputs": [],
   "source": [
    "resid = source_table['mag'] - (-2.5*np.log10(source_table['slot_PsfFlux_instFlux']/source_table['fluxmag0']))"
   ]
  },
  {
   "cell_type": "code",
   "execution_count": null,
   "metadata": {},
   "outputs": [],
   "source": [
    "print(resid)"
   ]
  },
  {
   "cell_type": "code",
   "execution_count": null,
   "metadata": {},
   "outputs": [],
   "source": [
    "source_table['slot_PsfFlux_instFlux']"
   ]
  },
  {
   "cell_type": "code",
   "execution_count": null,
   "metadata": {},
   "outputs": [],
   "source": [
    "source_table['slot_ApFlux_instFlux']"
   ]
  },
  {
   "cell_type": "code",
   "execution_count": null,
   "metadata": {},
   "outputs": [],
   "source": []
  }
 ],
 "metadata": {
  "kernelspec": {
   "display_name": "desc-python",
   "language": "python",
   "name": "desc-python"
  },
  "language_info": {
   "codemirror_mode": {
    "name": "ipython",
    "version": 3
   },
   "file_extension": ".py",
   "mimetype": "text/x-python",
   "name": "python",
   "nbconvert_exporter": "python",
   "pygments_lexer": "ipython3",
   "version": "3.6.6"
  }
 },
 "nbformat": 4,
 "nbformat_minor": 2
}
