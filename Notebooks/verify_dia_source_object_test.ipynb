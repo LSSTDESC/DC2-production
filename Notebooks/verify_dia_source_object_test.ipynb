{
 "cells": [
  {
   "cell_type": "markdown",
   "metadata": {},
   "source": [
    "# Verify Test DIA Source and DIA Object catalogs for Run 1.2p \n",
    "Michael Wood-Vasey\n",
    "Last Verified to Run: 2019-06-20\n",
    "\n",
    "Perform sanity checking on the DIA Source and DIA Object tables from the sample run of one patch."
   ]
  },
  {
   "cell_type": "code",
   "execution_count": null,
   "metadata": {},
   "outputs": [],
   "source": [
    "# Inject gcr-catalogs that supports DIA source into path.\n",
    "import os\n",
    "import sys\n",
    "\n",
    "gcr_catalogs_dir = os.path.join(os.getenv('HOME'), 'local', 'lsst', 'gcr-catalogs')\n",
    "sys.path.insert(0, gcr_catalogs_dir)"
   ]
  },
  {
   "cell_type": "code",
   "execution_count": null,
   "metadata": {},
   "outputs": [],
   "source": [
    "import os\n",
    "\n",
    "import GCRCatalogs"
   ]
  },
  {
   "cell_type": "code",
   "execution_count": null,
   "metadata": {},
   "outputs": [],
   "source": [
    "import pandas as pd"
   ]
  },
  {
   "cell_type": "code",
   "execution_count": null,
   "metadata": {},
   "outputs": [],
   "source": [
    "%matplotlib inline\n",
    "\n",
    "import matplotlib.pyplot as plt\n",
    "\n",
    "import math\n",
    "import numpy as np"
   ]
  },
  {
   "cell_type": "code",
   "execution_count": null,
   "metadata": {},
   "outputs": [],
   "source": [
    "diaSrc = GCRCatalogs.load_catalog('dc2_dia_source_run1.2p_test')\n",
    "diaObject = GCRCatalogs.load_catalog('dc2_dia_object_run1.2p_test')"
   ]
  },
  {
   "cell_type": "markdown",
   "metadata": {},
   "source": [
    "Questions for this very simple test verification:\n",
    "1. How many DIA Sources are there?\n",
    "2. What's the distribution in RA, Dec?\n",
    "3. What's the mag vs. mag_err plot\n",
    "4. Can we get out the filter information?\n",
    "\n",
    "Note that we don't yet of DIA Object table to match this to."
   ]
  },
  {
   "cell_type": "code",
   "execution_count": null,
   "metadata": {},
   "outputs": [],
   "source": [
    "print(f'There are {len(diaSrc)} DIA Sources and {len(diaObject)} DIA Objects in this test sample')"
   ]
  },
  {
   "cell_type": "code",
   "execution_count": null,
   "metadata": {},
   "outputs": [],
   "source": [
    "def scatter_radec(cat, ax=None):\n",
    "    if ax is None:\n",
    "        ax = plt.gca()\n",
    "    ax.scatter(cat['ra'], cat['dec'], marker='.')\n",
    "    ax.set_xlabel('RA')\n",
    "    ax.set_ylabel('Dec')\n",
    "    \n",
    "    # While we're doing a rectangular plot of the local tangent, we can at least get the local scale right\n",
    "    median_ra, median_dec = np.median(cat['ra']), np.median(cat['dec'])\n",
    "    ax.set_aspect(aspect=abs(1/math.cos(median_dec)))\n",
    "\n",
    "fig, [ax1, ax2] = plt.subplots(1, 2, figsize=(8, 4))\n",
    "scatter_radec(diaSrc, ax1)\n",
    "scatter_radec(diaObject, ax2)"
   ]
  },
  {
   "cell_type": "code",
   "execution_count": null,
   "metadata": {},
   "outputs": [],
   "source": [
    "def hexbin_radec(cat, ax=None):\n",
    "    if ax is None:\n",
    "        ax = plt.gca()\n",
    "    ax.hexbin(cat['ra'], cat['dec'])\n",
    "    # I don't know how to do colorbar from the axis\n",
    "    #    ax.colorbar()\n",
    "    ax.set_xlabel('RA')\n",
    "    ax.set_ylabel('Dec')\n",
    "\n",
    "    # While we're doing a rectangular plot of the local tangent, we can at least get the local scale right\n",
    "    median_ra, median_dec = np.median(cat['ra']), np.median(cat['dec'])\n",
    "    ax.set_aspect(aspect=abs(1/math.cos(median_dec)))\n",
    "    \n",
    "fig, [ax1, ax2] = plt.subplots(1, 2, figsize=(8, 4))\n",
    "hexbin_radec(diaSrc, ax1)\n",
    "hexbin_radec(diaObject, ax2)"
   ]
  },
  {
   "cell_type": "code",
   "execution_count": null,
   "metadata": {},
   "outputs": [],
   "source": [
    "diaSrc_r = diaSrc.get_quantities(['ra', 'dec', 'mag', 'mag_err', 'psFlux', 'psFluxErr'],\n",
    "                           filters=[(lambda x: x == 'r', 'filter'), 'mag_err < 0.1'])"
   ]
  },
  {
   "cell_type": "code",
   "execution_count": null,
   "metadata": {},
   "outputs": [],
   "source": [
    "hexbin_radec(diaSrc_r)"
   ]
  },
  {
   "cell_type": "code",
   "execution_count": null,
   "metadata": {},
   "outputs": [],
   "source": [
    "def scatter_mag(cat, ax=None):\n",
    "    if ax is None:\n",
    "        ax = plt.gca()\n",
    "    mag, mag_err = cat['mag'], cat['mag_err']\n",
    "    ax.scatter(mag, mag_err, marker='.')\n",
    "    ax.set_xlabel('Mag')\n",
    "    ax.set_ylabel('Mag Err')\n",
    "\n",
    "scatter_mag(diaSrc_r)\n",
    "# Oh, there is no mag yet for diaObject.\n",
    "# scatter_mag(diaObject) "
   ]
  },
  {
   "cell_type": "code",
   "execution_count": null,
   "metadata": {},
   "outputs": [],
   "source": [
    "cat_by_filter = {}\n",
    "filter_names = ['u', 'g', 'r', 'i', 'z', 'y']\n",
    "columns = ['ra', 'dec', 'mag', 'mag_err', 'psFlux', 'psFluxErr', 'visit']\n",
    "\n",
    "for f in filter_names: \n",
    "    cat_by_filter[f] = diaSrc.get_quantities(columns,\n",
    "                                          filters=[(lambda x: x == f, 'filter'), 'mag_err < 0.1'])"
   ]
  },
  {
   "cell_type": "code",
   "execution_count": null,
   "metadata": {},
   "outputs": [],
   "source": [
    "for f, this_cat in cat_by_filter.items():\n",
    "    plt.scatter(this_cat['mag'], this_cat['mag_err'], marker='.', label=f)\n",
    "\n",
    "plt.legend()\n",
    "plt.xlabel('mag')\n",
    "plt.ylabel('mag_err')"
   ]
  },
  {
   "cell_type": "code",
   "execution_count": null,
   "metadata": {},
   "outputs": [],
   "source": [
    "diaSrc.list_all_quantities()"
   ]
  },
  {
   "cell_type": "code",
   "execution_count": null,
   "metadata": {},
   "outputs": [],
   "source": [
    "diaObject.list_all_quantities()"
   ]
  },
  {
   "cell_type": "code",
   "execution_count": null,
   "metadata": {},
   "outputs": [],
   "source": [
    "plt.hexbin(diaSrc['x'], diaSrc['y'])\n",
    "plt.colorbar()\n",
    "plt.xlabel('x')\n",
    "plt.ylabel('y')\n",
    "plt.gca().set_aspect(aspect=1)\n",
    "plt.title('x, y on patch');"
   ]
  },
  {
   "cell_type": "code",
   "execution_count": null,
   "metadata": {},
   "outputs": [],
   "source": [
    "plt.hist(diaSrc['fluxmag0'])"
   ]
  },
  {
   "cell_type": "code",
   "execution_count": null,
   "metadata": {},
   "outputs": [],
   "source": [
    "# Double-check calibration\n",
    "f = 'r'\n",
    "this_cat = cat_by_filter[f]\n",
    "AB_mag_zp_wrt_Jansky = 8.90\n",
    "AB_mag_zp_wrt_nanoJansky = 2.5 * 9 + AB_mag_zp_wrt_Jansky\n",
    "\n",
    "mag_from_psFlux = -2.5*np.log10(this_cat['psFlux']) + AB_mag_zp_wrt_nanoJansky\n",
    "snr = abs(this_cat['psFlux'])/this_cat['psFluxErr']"
   ]
  },
  {
   "cell_type": "code",
   "execution_count": null,
   "metadata": {},
   "outputs": [],
   "source": [
    "plt.scatter(this_cat['mag'], mag_from_psFlux - this_cat['mag'], c=this_cat['visit'])\n",
    "plt.xlabel('mag [{}]'.format(f))\n",
    "plt.ylabel('mag_from_psFlux [{}]'.format(f))"
   ]
  },
  {
   "cell_type": "code",
   "execution_count": null,
   "metadata": {},
   "outputs": [],
   "source": [
    "# Check mag_err vs. flux SNR\n",
    "# Should be 2.5/ln(10)/SNR = mag_err\n",
    "fig, ax = plt.subplots(1, 2, figsize=(12,6))\n",
    "ax[0].scatter(this_cat['mag'], (2.5/math.log(10)) / snr - this_cat['mag_err'])\n",
    "ax[0].set_xlabel('mag [{}]'.format(f))\n",
    "ax[0].set_ylabel('1/SNR from psFlux/psFluxErr')\n",
    "\n",
    "ax[1].scatter(this_cat['mag_err'], (2.5/math.log(10)) / snr - this_cat['mag_err'])\n",
    "ax[1].set_xlabel('mag_err [{}]'.format(f))\n",
    "ax[1].set_ylabel('1/SNR from psFlux/psFluxErr')"
   ]
  },
  {
   "cell_type": "code",
   "execution_count": null,
   "metadata": {},
   "outputs": [],
   "source": [
    "plt.hist(snr);"
   ]
  },
  {
   "cell_type": "markdown",
   "metadata": {},
   "source": [
    "## DIAObject statistics"
   ]
  },
  {
   "cell_type": "code",
   "execution_count": null,
   "metadata": {},
   "outputs": [],
   "source": [
    "plt.hist(diaObject['nobs'], log=True, bins=[0, 1, 2, 5, 10, 20, 50, 100, 200])\n",
    "plt.xlabel('Number of DIA Source Observations in DIA Object')\n",
    "plt.ylabel('DIA Objects per bin');\n",
    "plt.xscale('log')"
   ]
  },
  {
   "cell_type": "code",
   "execution_count": null,
   "metadata": {},
   "outputs": [],
   "source": [
    "reduced_chi2_r = diaObject['psFluxChi2_r']/(diaObject['psFluxNdata_r']-1)\n",
    "log10_reduced_chi2_r = np.log10(reduced_chi2_r)"
   ]
  },
  {
   "cell_type": "code",
   "execution_count": null,
   "metadata": {},
   "outputs": [],
   "source": [
    "plt.hist(log10_reduced_chi2_r, range=(0, 10), bins=np.linspace(-0.25, 10.25, 21));\n",
    "plt.xlabel(r'$\\log_{10}(\\chi^2/{\\rm dof})$')\n",
    "plt.ylabel('#/bin');"
   ]
  },
  {
   "cell_type": "code",
   "execution_count": null,
   "metadata": {},
   "outputs": [],
   "source": [
    "plt.scatter(diaObject['magMean_r'], log10_reduced_chi2_r,\n",
    "           c=np.log10(diaObject['nobs']))\n",
    "\n",
    "plt.xlabel('<r> [mag]')\n",
    "plt.ylabel(r'$\\log_{10}{\\chi^2/{\\rm dof}}')\n",
    "plt.colorbar(label='log10(nobs)');"
   ]
  },
  {
   "cell_type": "code",
   "execution_count": null,
   "metadata": {},
   "outputs": [],
   "source": [
    "plt.scatter(diaObject['magMean_r'], diaObject['nobs'], c=log10_reduced_chi2_r)\n",
    "plt.xlabel('<r> [mag]')\n",
    "plt.ylabel('nobs')\n",
    "plt.colorbar();"
   ]
  },
  {
   "cell_type": "code",
   "execution_count": null,
   "metadata": {},
   "outputs": [],
   "source": [
    "plt.scatter(diaObject['magMean_r'], diaObject['magMeanStd_r'])\n",
    "plt.xlabel('<r> [mag]')\n",
    "plt.ylabel('std(r) [mag]');"
   ]
  },
  {
   "cell_type": "markdown",
   "metadata": {},
   "source": [
    "## A Lightcurve"
   ]
  },
  {
   "cell_type": "markdown",
   "metadata": {},
   "source": [
    "Let's pick an object with lots of observations and $\\chi^2/{\\rm dof}$ significantly greater than one."
   ]
  },
  {
   "cell_type": "code",
   "execution_count": null,
   "metadata": {},
   "outputs": [],
   "source": [
    "w, = np.where((diaObject['nobs'] > 100) & (log10_reduced_chi2_r > 2) & (log10_reduced_chi2_r < 3))\n",
    "objectIds = (diaObject['diaObjectId'][w])"
   ]
  },
  {
   "cell_type": "code",
   "execution_count": null,
   "metadata": {},
   "outputs": [],
   "source": [
    "print(objectIds)"
   ]
  },
  {
   "cell_type": "code",
   "execution_count": null,
   "metadata": {},
   "outputs": [],
   "source": [
    "this_objectId = objectIds[0]\n",
    "this_object_diaSrc = pd.DataFrame(diaSrc.get_quantities(['diaObjectId', 'filter', 'mjd', 'mag', 'mag_err', 'psFlux', 'psFluxErr'], filters=[(lambda x: x == this_objectId, 'diaObjectId')]))"
   ]
  },
  {
   "cell_type": "code",
   "execution_count": null,
   "metadata": {},
   "outputs": [],
   "source": [
    "this_object_diaSrc"
   ]
  },
  {
   "cell_type": "code",
   "execution_count": null,
   "metadata": {},
   "outputs": [],
   "source": [
    "def plot_lightcurve(df, plot='mag'):\n",
    "    \"\"\"Plot a lightcurve from a DataFrame.\n",
    "    \"\"\"\n",
    "    # At lexigraphical order, if not wavelength order.\n",
    "    filters = np.unique(this_object_diaSrc['filter'])\n",
    "\n",
    "    if plot == 'flux':\n",
    "        flux_col = 'psFlux'\n",
    "        flux_err_col = 'psFluxErr'\n",
    "    else:\n",
    "        flux_col = 'mag'\n",
    "        flux_err_col = 'mag_err'\n",
    "        \n",
    "    for filt in filters:\n",
    "        this_filter = df.query(f'filter == \"{filt}\"')\n",
    "        plt.errorbar(this_filter['mjd'], this_filter[flux_col], this_filter[flux_err_col],\n",
    "                     linestyle='none', marker='o',\n",
    "                     label=filt)\n",
    "    plt.xlabel('MJD')\n",
    "\n",
    "    if plot == 'flux':\n",
    "        plt.ylabel('psFlux [nJy]')\n",
    "    else:\n",
    "        plt.ylim(plt.ylim()[::-1])\n",
    "        plt.ylabel('mag')\n",
    "\n",
    "    plt.title(f'diaObjectId: {df[\"diaObjectId\"][0]}')\n",
    "    plt.legend()"
   ]
  },
  {
   "cell_type": "code",
   "execution_count": null,
   "metadata": {},
   "outputs": [],
   "source": [
    "plt.figure(figsize=(12, 8))\n",
    "plot_lightcurve(this_object_diaSrc)"
   ]
  },
  {
   "cell_type": "code",
   "execution_count": null,
   "metadata": {},
   "outputs": [],
   "source": [
    "plt.figure(figsize=(12, 8))\n",
    "plot_lightcurve(this_object_diaSrc, plot='flux')"
   ]
  },
  {
   "cell_type": "code",
   "execution_count": null,
   "metadata": {},
   "outputs": [],
   "source": []
  }
 ],
 "metadata": {
  "kernelspec": {
   "display_name": "desc-stack",
   "language": "python",
   "name": "desc-stack"
  },
  "language_info": {
   "codemirror_mode": {
    "name": "ipython",
    "version": 3
   },
   "file_extension": ".py",
   "mimetype": "text/x-python",
   "name": "python",
   "nbconvert_exporter": "python",
   "pygments_lexer": "ipython3",
   "version": "3.6.6"
  }
 },
 "nbformat": 4,
 "nbformat_minor": 2
}
