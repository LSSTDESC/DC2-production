{
 "cells": [
  {
   "cell_type": "markdown",
   "metadata": {},
   "source": [
    "# DC2 Run1.2 object catalog number density\n",
    "<br> Kernel: **desc-pyspark**\n",
    "<br>Owner: **S Plaszczynski** (https://github.com/LSSTDESC/DC2-production/issues/299)\n",
    "<br>Last Verified to Run: **2018-12-04**\n",
    "    \n",
    "The goal of this notebook is to compare the obseved galactic number density to the expected one.\n",
    "The latter is provided by Rachel's formula N(mag_i<ilim)~40 x 10^(0.36 (ilim-25)) /sq arcmin (in the [24,25] range and was used to calibrate the simulation.\n",
    "Here we use ilim=24."
   ]
  },
  {
   "cell_type": "markdown",
   "metadata": {},
   "source": [
    "# reading the data"
   ]
  },
  {
   "cell_type": "code",
   "execution_count": 1,
   "metadata": {},
   "outputs": [
    {
     "name": "stdout",
     "output_type": "stream",
     "text": [
      "spark session started\n",
      "['tract', 'patch', 'ra', 'dec', 'good', 'clean', 'extendedness', 'psFlux_flag_i', 'psFlux_i', 'mag_i', 'mag_i_cModel', 'snr_i_cModel']\n",
      "root\n",
      " |-- tract: long (nullable = true)\n",
      " |-- patch: string (nullable = true)\n",
      " |-- ra: double (nullable = true)\n",
      " |-- dec: double (nullable = true)\n",
      " |-- good: boolean (nullable = true)\n",
      " |-- clean: boolean (nullable = true)\n",
      " |-- extendedness: double (nullable = true)\n",
      " |-- psFlux_flag_i: boolean (nullable = true)\n",
      " |-- psFlux_i: double (nullable = true)\n",
      " |-- mag_i: double (nullable = true)\n",
      " |-- mag_i_cModel: double (nullable = true)\n",
      " |-- snr_i_cModel: double (nullable = true)\n",
      "\n",
      "#galaxies=27.083536 millions\n"
     ]
    }
   ],
   "source": [
    "from pyspark.sql import SparkSession\n",
    "\n",
    "# Initialise our Spark session\n",
    "spark = SparkSession.builder.getOrCreate()\n",
    "print(\"spark session started\")\n",
    "\n",
    "df_all=spark.read.parquet(\"/global/cscratch1/sd/plaszczy/Run1.2p/object_catalog/full_catalog.parquet\")\n",
    "\n",
    "#put in cache only relevant quantities\n",
    "cols=[\"tract\",\"patch\",\"ra\",\"dec\",\"good\",\"clean\",\"extendedness\"]\n",
    "filters=['i']\n",
    "for f in filters:\n",
    "    s=\"psFlux_flag_{0},psFlux_{0},mag_{0},mag_{0}_cModel,snr_{0}_cModel\".format(f)\n",
    "    cols+=s.split(',')\n",
    "print(cols)\n",
    "\n",
    "df=df_all.select(cols)\n",
    "N=df.cache().count()\n",
    "df.printSchema()\n",
    "print(\"#galaxies={} millions\".format(N/1e6))\n"
   ]
  },
  {
   "cell_type": "markdown",
   "metadata": {},
   "source": [
    "# Sky fraction and expected density\n",
    "\n",
    "we estimate the sky fraction by projecting data onto a healpix map"
   ]
  },
  {
   "cell_type": "code",
   "execution_count": 2,
   "metadata": {},
   "outputs": [],
   "source": [
    "import pandas as pd\n",
    "import numpy as np\n",
    "import healpy as hp\n",
    "from pyspark.sql.functions import pandas_udf, PandasUDFType\n",
    "\n",
    "nside=2048\n",
    "#create the ang2pix user-defined-function. \n",
    "#we use pandas_udf because they are more efficient\n",
    "@pandas_udf('int', PandasUDFType.SCALAR)\n",
    "def Ang2Pix(ra,dec):\n",
    "    return pd.Series(hp.ang2pix(nside,np.radians(90-dec),np.radians(ra)))\n",
    "\n",
    "#add a column of healpix indices\n",
    "df=df.withColumn(\"ipix\",Ang2Pix(\"ra\",\"dec\"))\n",
    "#groupby indices and count the number of elements in each group\n",
    "df_map=df.groupBy(\"ipix\").count()\n",
    "\n",
    "#back to python world\n",
    "map_p=df_map.toPandas()\n",
    "\n",
    "#now data is reduced create the healpy map\n",
    "map_c = np.zeros(hp.nside2npix(nside))\n",
    "map_c[map_p['ipix'].values]=map_p['count'].values"
   ]
  },
  {
   "cell_type": "code",
   "execution_count": 3,
   "metadata": {},
   "outputs": [
    {
     "data": {
      "text/plain": [
       "<Figure size 432x288 with 0 Axes>"
      ]
     },
     "metadata": {},
     "output_type": "display_data"
    },
    {
     "data": {
      "image/png": "[encoded data removed]",
      "text/plain": [
       "<Figure size 612x388.8 with 2 Axes>"
      ]
     },
     "metadata": {
      "needs_background": "light"
     },
     "output_type": "display_data"
    }
   ],
   "source": [
    "%matplotlib inline\n",
    "import matplotlib.pyplot as plt\n",
    "plt.set_cmap('jet') #color-blind people should comment this line\n",
    "\n",
    "hp.mollview(map_c)"
   ]
  },
  {
   "cell_type": "markdown",
   "metadata": {},
   "source": [
    "compute the sky fraction and area"
   ]
  },
  {
   "cell_type": "code",
   "execution_count": 6,
   "metadata": {},
   "outputs": [
    {
     "name": "stdout",
     "output_type": "stream",
     "text": [
      "fraction of the sksy=0.0007590055465698242 total area=31.31125581264496 deg^2\n"
     ]
    }
   ],
   "source": [
    "frac=np.sum(map_c!=0)/hp.nside2npix(nside)\n",
    "A=frac*41253\n",
    "print(\"fraction of the sksy={} total area={} deg^2\".format(frac,A))"
   ]
  },
  {
   "cell_type": "markdown",
   "metadata": {},
   "source": [
    "so that the expected Nnumber for ilim=24 is"
   ]
  },
  {
   "cell_type": "code",
   "execution_count": 7,
   "metadata": {},
   "outputs": [
    {
     "name": "stdout",
     "output_type": "stream",
     "text": [
      "1968171.6800939688\n"
     ]
    }
   ],
   "source": [
    "Nexp=40*10**(-0.36)*A*3600\n",
    "print(Nexp)"
   ]
  },
  {
   "cell_type": "markdown",
   "metadata": {},
   "source": [
    "# Catalog analysis"
   ]
  },
  {
   "cell_type": "markdown",
   "metadata": {},
   "source": [
    "histograms with spark"
   ]
  },
  {
   "cell_type": "code",
   "execution_count": 8,
   "metadata": {},
   "outputs": [],
   "source": [
    "%matplotlib inline\n",
    "import matplotlib.pyplot as plt\n",
    "\n",
    "from pyspark.sql.types import IntegerType\n",
    "from pyspark.sql import functions as F\n",
    "\n",
    "def minmax(df,col):\n",
    "    return df.select(F.min(col),F.max(col)).first()\n",
    "\n",
    "def histo(df,col,Nbins,bounds=None):\n",
    "    if (bounds==None) :\n",
    "        m=minmax(df,col)\n",
    "        zmin=minmax[0]\n",
    "        zmax=minmax[1]\n",
    "    else:\n",
    "        zmin=bounds[0]\n",
    "        zmax=bounds[1]\n",
    "        df=df.filter(df[col].between(zmin,zmax))\n",
    "    \n",
    "    dz=(zmax-zmin)/Nbins\n",
    "    zbin=df.select(df[col],((df[col]-zmin-dz/2)/dz).cast(IntegerType()).alias('bin'))\n",
    "    h=zbin.groupBy(\"bin\").count().orderBy(F.asc(\"bin\"))\n",
    "    h=h.select(\"bin\",(zmin+dz/2+h['bin']*dz).alias('loc'),\"count\").drop(\"bin\")\n",
    "    h=h.toPandas()\n",
    "    step=(zmax-zmin)/Nbins\n",
    "    plt.bar(h['loc'].values,h['count'].values,step,color='w',edgecolor='k')\n",
    "    plt.xlabel(col)\n",
    "    return h"
   ]
  },
  {
   "cell_type": "markdown",
   "metadata": {},
   "source": [
    "quality cuts"
   ]
  },
  {
   "cell_type": "code",
   "execution_count": 10,
   "metadata": {},
   "outputs": [],
   "source": [
    "df24=df.filter((df.mag_i_cModel<24) & (df.good==True) & (df.extendedness>0.9))"
   ]
  },
  {
   "cell_type": "code",
   "execution_count": 11,
   "metadata": {},
   "outputs": [
    {
     "name": "stdout",
     "output_type": "stream",
     "text": [
      "N(mag_i)<24=985414\n"
     ]
    }
   ],
   "source": [
    "N=df24.count()\n",
    "print(\"N(mag_i)<24={}\".format(N))"
   ]
  },
  {
   "cell_type": "code",
   "execution_count": 81,
   "metadata": {},
   "outputs": [
    {
     "data": {
      "image/png": "[encoded data removed]",
      "text/plain": [
       "<Figure size 432x288 with 1 Axes>"
      ]
     },
     "metadata": {
      "needs_background": "light"
     },
     "output_type": "display_data"
    }
   ],
   "source": [
    "h=histo(df24,'snr_i_cModel',50,bounds=(0,100))"
   ]
  },
  {
   "cell_type": "code",
   "execution_count": 76,
   "metadata": {},
   "outputs": [
    {
     "data": {
      "image/png": "[encoded data removed]",
      "text/plain": [
       "<Figure size 432x288 with 1 Axes>"
      ]
     },
     "metadata": {
      "needs_background": "light"
     },
     "output_type": "display_data"
    }
   ],
   "source": [
    "h=histo(df24,'mag_i_cModel',50,bounds=(15,24))"
   ]
  }
 ],
 "metadata": {
  "kernelspec": {
   "display_name": "desc-pyspark",
   "language": "python",
   "name": "desc-pyspark"
  },
  "language_info": {
   "codemirror_mode": {
    "name": "ipython",
    "version": 3
   },
   "file_extension": ".py",
   "mimetype": "text/x-python",
   "name": "python",
   "nbconvert_exporter": "python",
   "pygments_lexer": "ipython3",
   "version": "3.6.6"
  }
 },
 "nbformat": 4,
 "nbformat_minor": 2
}
